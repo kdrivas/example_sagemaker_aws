{
 "cells": [
  {
   "cell_type": "code",
   "execution_count": 1,
   "id": "standard-latter",
   "metadata": {},
   "outputs": [],
   "source": [
    "import pandas as pd \n",
    "import numpy as np \n",
    "import awswrangler as wr\n",
    "from datetime import date\n",
    "import datetime\n",
    "\n",
    "import mlflow\n",
    "from mlflow.tracking import MlflowClient\n",
    "\n",
    "import lightgbm as lgb\n",
    "import joblib\n",
    "from sklearn.metrics import roc_auc_score, confusion_matrix\n",
    "\n",
    "import pickle \n",
    "import boto3"
   ]
  },
  {
   "cell_type": "code",
   "execution_count": 2,
   "id": "manual-palestine",
   "metadata": {},
   "outputs": [],
   "source": [
    "data_ant = wr.s3.read_parquet('s3://rimac-analytics-temporal/individuals/AnthonyRuiz/vehi/score/base_modelo_score_vehicular.parquet')\n"
   ]
  },
  {
   "cell_type": "code",
   "execution_count": 3,
   "id": "novel-validation",
   "metadata": {},
   "outputs": [],
   "source": [
    "data_cross_ant = wr.s3.read_parquet('s3://rimac-analytics-temporal/individuals/AnthonyRuiz/vehi/score/df_revis_Dante.parquet.gz')\n"
   ]
  },
  {
   "cell_type": "code",
   "execution_count": 4,
   "id": "gothic-syndication",
   "metadata": {},
   "outputs": [
    {
     "data": {
      "text/html": [
       "<div>\n",
       "<style scoped>\n",
       "    .dataframe tbody tr th:only-of-type {\n",
       "        vertical-align: middle;\n",
       "    }\n",
       "\n",
       "    .dataframe tbody tr th {\n",
       "        vertical-align: top;\n",
       "    }\n",
       "\n",
       "    .dataframe thead th {\n",
       "        text-align: right;\n",
       "    }\n",
       "</style>\n",
       "<table border=\"1\" class=\"dataframe\">\n",
       "  <thead>\n",
       "    <tr style=\"text-align: right;\">\n",
       "      <th></th>\n",
       "      <th>cuc</th>\n",
       "      <th>placa</th>\n",
       "      <th>periodo</th>\n",
       "      <th>flg_cross</th>\n",
       "    </tr>\n",
       "  </thead>\n",
       "  <tbody>\n",
       "    <tr>\n",
       "      <th>161</th>\n",
       "      <td>1-09880600</td>\n",
       "      <td>AMJ508</td>\n",
       "      <td>202012</td>\n",
       "      <td>True</td>\n",
       "    </tr>\n",
       "  </tbody>\n",
       "</table>\n",
       "</div>"
      ],
      "text/plain": [
       "            cuc   placa periodo  flg_cross\n",
       "161  1-09880600  AMJ508  202012       True"
      ]
     },
     "execution_count": 4,
     "metadata": {},
     "output_type": "execute_result"
    }
   ],
   "source": [
    "data_cross_ant[data_cross_ant.placa == 'AMJ508']"
   ]
  },
  {
   "cell_type": "code",
   "execution_count": 5,
   "id": "cheap-prison",
   "metadata": {},
   "outputs": [],
   "source": [
    "q = \"\"\"\n",
    "select *\n",
    "from coe_analytics_tmp.crossveh_test_back;\n",
    "\"\"\"\n",
    "\n",
    "data = wr.athena.read_sql_query(q, database=\"bdax_acselx\")"
   ]
  },
  {
   "cell_type": "code",
   "execution_count": 6,
   "id": "brave-brother",
   "metadata": {},
   "outputs": [
    {
     "name": "stdout",
     "output_type": "stream",
     "text": [
      "Data sample: (398574, 7)\n",
      "Total potencial cross: (1823084, 5)\n"
     ]
    }
   ],
   "source": [
    "print('Data sample:', data_ant.shape)\n",
    "print('Total potencial cross:', data.shape)"
   ]
  },
  {
   "cell_type": "code",
   "execution_count": 7,
   "id": "developing-empty",
   "metadata": {},
   "outputs": [
    {
     "name": "stdout",
     "output_type": "stream",
     "text": [
      "Data sample: (398574, 7)\n",
      "Total potencial cross: (1823084, 5)\n"
     ]
    }
   ],
   "source": [
    "print('Data sample:', data_ant.shape)\n",
    "print('Total potencial cross:', data.shape)"
   ]
  },
  {
   "cell_type": "code",
   "execution_count": 7,
   "id": "clear-maryland",
   "metadata": {},
   "outputs": [],
   "source": [
    "data['periodo'] = data['periodo_target'].astype(str)\n",
    "data_cross_ant['periodo'] = data_cross_ant['periodo'].astype(str)"
   ]
  },
  {
   "cell_type": "code",
   "execution_count": 8,
   "id": "alleged-berkeley",
   "metadata": {},
   "outputs": [
    {
     "data": {
      "text/plain": [
       "((398574, 4), (395040, 4))"
      ]
     },
     "execution_count": 8,
     "metadata": {},
     "output_type": "execute_result"
    }
   ],
   "source": [
    " data_cross_ant.shape, data_cross_ant.drop_duplicates(['cuc', 'placa', 'periodo']).shape"
   ]
  },
  {
   "cell_type": "code",
   "execution_count": 14,
   "id": "written-species",
   "metadata": {},
   "outputs": [],
   "source": [
    "data_cross = pd.merge(data_cross_ant[data_cross_ant.flg_cross == True].drop_duplicates(['cuc', 'placa', 'periodo']), data[['cuc', 'placa', 'preds', 'periodo']].drop_duplicates(['cuc', 'placa', 'periodo']), on=['cuc','placa', 'periodo'], how='left')\n"
   ]
  },
  {
   "cell_type": "code",
   "execution_count": 25,
   "id": "latter-venice",
   "metadata": {},
   "outputs": [],
   "source": [
    "data_faltante = pd.merge(data_cross.loc[(data_cross.preds.isnull())][['cuc', 'placa', 'periodo']], data[['cuc', 'placa', 'preds']].drop_duplicates(['cuc', 'placa']), on=['cuc', 'placa'], how='left')\n"
   ]
  },
  {
   "cell_type": "code",
   "execution_count": 41,
   "id": "enhanced-bunch",
   "metadata": {},
   "outputs": [
    {
     "data": {
      "text/plain": [
       "(38750, 5)"
      ]
     },
     "execution_count": 41,
     "metadata": {},
     "output_type": "execute_result"
    }
   ],
   "source": [
    "data_cross.shape"
   ]
  },
  {
   "cell_type": "code",
   "execution_count": 38,
   "id": "coastal-gnome",
   "metadata": {},
   "outputs": [
    {
     "data": {
      "text/plain": [
       "(20090, 4)"
      ]
     },
     "execution_count": 38,
     "metadata": {},
     "output_type": "execute_result"
    }
   ],
   "source": [
    "data_faltante.shape"
   ]
  },
  {
   "cell_type": "code",
   "execution_count": 42,
   "id": "former-export",
   "metadata": {},
   "outputs": [],
   "source": [
    "data_concat = pd.concat((data_cross[(data_cross.preds.notnull())], data_faltante), axis=0)"
   ]
  },
  {
   "cell_type": "code",
   "execution_count": 48,
   "id": "hollywood-venice",
   "metadata": {},
   "outputs": [
    {
     "data": {
      "text/plain": [
       "(38750, 5)"
      ]
     },
     "execution_count": 48,
     "metadata": {},
     "output_type": "execute_result"
    }
   ],
   "source": [
    "data_concat.shape"
   ]
  },
  {
   "cell_type": "code",
   "execution_count": 50,
   "id": "partial-melissa",
   "metadata": {},
   "outputs": [
    {
     "data": {
      "text/plain": [
       "(29301, 5)"
      ]
     },
     "execution_count": 50,
     "metadata": {},
     "output_type": "execute_result"
    }
   ],
   "source": [
    "data_concat[data_concat.placa != 'XXXXXX'].shape"
   ]
  },
  {
   "cell_type": "code",
   "execution_count": 52,
   "id": "atmospheric-appeal",
   "metadata": {},
   "outputs": [
    {
     "data": {
      "text/plain": [
       "<AxesSubplot:>"
      ]
     },
     "execution_count": 52,
     "metadata": {},
     "output_type": "execute_result"
    },
    {
     "data": {
      "image/png": "[encoded data removed]",
      "text/plain": [
       "<Figure size 432x288 with 1 Axes>"
      ]
     },
     "metadata": {
      "needs_background": "light"
     },
     "output_type": "display_data"
    }
   ],
   "source": [
    "data_concat[(data_concat.preds.notnull())].preds.hist()"
   ]
  },
  {
   "cell_type": "code",
   "execution_count": 55,
   "id": "flexible-london",
   "metadata": {},
   "outputs": [
    {
     "data": {
      "text/plain": [
       "0.9044595215405195"
      ]
     },
     "execution_count": 55,
     "metadata": {},
     "output_type": "execute_result"
    }
   ],
   "source": [
    "data_concat.preds.median()"
   ]
  },
  {
   "cell_type": "code",
   "execution_count": 47,
   "id": "radio-cancer",
   "metadata": {},
   "outputs": [
    {
     "data": {
      "text/plain": [
       "{'paths': ['s3://rimac-analytics-temporal/individuals/Dante/cross_prop_veh/tmp/cross_tmp_01/92a6ad3e09e845df8a51890428d80f5c.snappy.parquet'],\n",
       " 'partitions_values': {}}"
      ]
     },
     "execution_count": 47,
     "metadata": {},
     "output_type": "execute_result"
    }
   ],
   "source": [
    "wr.s3.to_parquet(\n",
    "        df=data_concat,\n",
    "        path=f's3://rimac-analytics-temporal/individuals/Dante/cross_prop_veh/tmp/cross_tmp_01/',\n",
    "        mode='overwrite',\n",
    "        dataset=True,\n",
    "        database=\"coe_analytics_tmp\",\n",
    "        table=f\"cross_tmp_01\"\n",
    ")"
   ]
  },
  {
   "cell_type": "code",
   "execution_count": 23,
   "id": "compliant-attack",
   "metadata": {},
   "outputs": [
    {
     "data": {
      "text/plain": [
       "(20090, 4)"
      ]
     },
     "execution_count": 23,
     "metadata": {},
     "output_type": "execute_result"
    }
   ],
   "source": [
    "data_faltante.shape"
   ]
  },
  {
   "cell_type": "code",
   "execution_count": 29,
   "id": "peaceful-local",
   "metadata": {},
   "outputs": [
    {
     "data": {
      "text/plain": [
       "(5207, 4)"
      ]
     },
     "execution_count": 29,
     "metadata": {},
     "output_type": "execute_result"
    }
   ],
   "source": [
    "data_faltante[(data_faltante.preds.isnull()) & (data_faltante.placa != 'XXXXXX')].shape"
   ]
  },
  {
   "cell_type": "code",
   "execution_count": 30,
   "id": "wireless-generic",
   "metadata": {},
   "outputs": [
    {
     "data": {
      "text/plain": [
       "(9038, 4)"
      ]
     },
     "execution_count": 30,
     "metadata": {},
     "output_type": "execute_result"
    }
   ],
   "source": [
    "data_faltante[(data_faltante.placa == 'XXXXXX')].shape"
   ]
  },
  {
   "cell_type": "code",
   "execution_count": 34,
   "id": "virgin-brazil",
   "metadata": {},
   "outputs": [
    {
     "data": {
      "text/plain": [
       "(29301, 5)"
      ]
     },
     "execution_count": 34,
     "metadata": {},
     "output_type": "execute_result"
    }
   ],
   "source": [
    "data_cross[(data_cross.placa != 'XXXXXX')].shape"
   ]
  },
  {
   "cell_type": "code",
   "execution_count": 35,
   "id": "varied-issue",
   "metadata": {},
   "outputs": [
    {
     "data": {
      "text/plain": [
       "0.1724137931034483"
      ]
     },
     "execution_count": 35,
     "metadata": {},
     "output_type": "execute_result"
    }
   ],
   "source": [
    "5000 / 29000"
   ]
  },
  {
   "cell_type": "code",
   "execution_count": 28,
   "id": "trained-methodology",
   "metadata": {},
   "outputs": [
    {
     "data": {
      "text/html": [
       "<div>\n",
       "<style scoped>\n",
       "    .dataframe tbody tr th:only-of-type {\n",
       "        vertical-align: middle;\n",
       "    }\n",
       "\n",
       "    .dataframe tbody tr th {\n",
       "        vertical-align: top;\n",
       "    }\n",
       "\n",
       "    .dataframe thead th {\n",
       "        text-align: right;\n",
       "    }\n",
       "</style>\n",
       "<table border=\"1\" class=\"dataframe\">\n",
       "  <thead>\n",
       "    <tr style=\"text-align: right;\">\n",
       "      <th></th>\n",
       "      <th>periodo_target</th>\n",
       "      <th>cuc</th>\n",
       "      <th>placa</th>\n",
       "      <th>target</th>\n",
       "      <th>preds</th>\n",
       "      <th>periodo</th>\n",
       "    </tr>\n",
       "  </thead>\n",
       "  <tbody>\n",
       "    <tr>\n",
       "      <th>354432</th>\n",
       "      <td>201903</td>\n",
       "      <td>1-08773200</td>\n",
       "      <td>AMJ508</td>\n",
       "      <td>0.0</td>\n",
       "      <td>0.590528</td>\n",
       "      <td>201903</td>\n",
       "    </tr>\n",
       "  </tbody>\n",
       "</table>\n",
       "</div>"
      ],
      "text/plain": [
       "        periodo_target         cuc   placa  target     preds periodo\n",
       "354432          201903  1-08773200  AMJ508     0.0  0.590528  201903"
      ]
     },
     "execution_count": 28,
     "metadata": {},
     "output_type": "execute_result"
    }
   ],
   "source": [
    "data[data.placa == 'AMJ508']"
   ]
  },
  {
   "cell_type": "code",
   "execution_count": null,
   "id": "harmful-bryan",
   "metadata": {},
   "outputs": [],
   "source": [
    "data_cross.loc[(data_cross.preds.isnull()) & ][['cuc', 'placa']]"
   ]
  },
  {
   "cell_type": "code",
   "execution_count": 16,
   "id": "personalized-power",
   "metadata": {},
   "outputs": [
    {
     "data": {
      "text/plain": [
       "39046"
      ]
     },
     "execution_count": 16,
     "metadata": {},
     "output_type": "execute_result"
    }
   ],
   "source": [
    "data_cross_ant.flg_cross.sum()"
   ]
  },
  {
   "cell_type": "code",
   "execution_count": 22,
   "id": "informed-opening",
   "metadata": {},
   "outputs": [],
   "source": [
    "d = data.groupby(['placa', 'cuc'])[['periodo']].count().reset_index()"
   ]
  },
  {
   "cell_type": "code",
   "execution_count": 27,
   "id": "essential-appeal",
   "metadata": {},
   "outputs": [],
   "source": [
    "data_tmp = pd.merge(data_cross_ant.drop_duplicates(['cuc', 'placa', 'periodo']), d, on=['placa', 'cuc'])"
   ]
  },
  {
   "cell_type": "code",
   "execution_count": 29,
   "id": "apart-locator",
   "metadata": {},
   "outputs": [
    {
     "data": {
      "text/plain": [
       "(22568, 5)"
      ]
     },
     "execution_count": 29,
     "metadata": {},
     "output_type": "execute_result"
    }
   ],
   "source": [
    "data_tmp[data_tmp.flg_cross ==True].shape"
   ]
  },
  {
   "cell_type": "code",
   "execution_count": 30,
   "id": "guided-underground",
   "metadata": {},
   "outputs": [
    {
     "data": {
      "text/plain": [
       "(223736, 5)"
      ]
     },
     "execution_count": 30,
     "metadata": {},
     "output_type": "execute_result"
    }
   ],
   "source": [
    "data_tmp.shape"
   ]
  },
  {
   "cell_type": "code",
   "execution_count": 26,
   "id": "central-diary",
   "metadata": {},
   "outputs": [
    {
     "data": {
      "text/html": [
       "<div>\n",
       "<style scoped>\n",
       "    .dataframe tbody tr th:only-of-type {\n",
       "        vertical-align: middle;\n",
       "    }\n",
       "\n",
       "    .dataframe tbody tr th {\n",
       "        vertical-align: top;\n",
       "    }\n",
       "\n",
       "    .dataframe thead th {\n",
       "        text-align: right;\n",
       "    }\n",
       "</style>\n",
       "<table border=\"1\" class=\"dataframe\">\n",
       "  <thead>\n",
       "    <tr style=\"text-align: right;\">\n",
       "      <th></th>\n",
       "      <th>placa</th>\n",
       "      <th>cuc</th>\n",
       "      <th>periodo</th>\n",
       "    </tr>\n",
       "  </thead>\n",
       "  <tbody>\n",
       "    <tr>\n",
       "      <th>313</th>\n",
       "      <td>00103P</td>\n",
       "      <td>1-45120979</td>\n",
       "      <td>3</td>\n",
       "    </tr>\n",
       "    <tr>\n",
       "      <th>1028</th>\n",
       "      <td>00325A</td>\n",
       "      <td>1-08255264</td>\n",
       "      <td>4</td>\n",
       "    </tr>\n",
       "    <tr>\n",
       "      <th>1224</th>\n",
       "      <td>00388C</td>\n",
       "      <td>1-09884859</td>\n",
       "      <td>2</td>\n",
       "    </tr>\n",
       "    <tr>\n",
       "      <th>1726</th>\n",
       "      <td>00554C</td>\n",
       "      <td>1-44964881</td>\n",
       "      <td>2</td>\n",
       "    </tr>\n",
       "    <tr>\n",
       "      <th>2279</th>\n",
       "      <td>00723V</td>\n",
       "      <td>1-29637520</td>\n",
       "      <td>2</td>\n",
       "    </tr>\n",
       "  </tbody>\n",
       "</table>\n",
       "</div>"
      ],
      "text/plain": [
       "       placa         cuc  periodo\n",
       "313   00103P  1-45120979        3\n",
       "1028  00325A  1-08255264        4\n",
       "1224  00388C  1-09884859        2\n",
       "1726  00554C  1-44964881        2\n",
       "2279  00723V  1-29637520        2"
      ]
     },
     "execution_count": 26,
     "metadata": {},
     "output_type": "execute_result"
    }
   ],
   "source": [
    "d[d.periodo > 1].head()"
   ]
  },
  {
   "cell_type": "code",
   "execution_count": 8,
   "id": "wrapped-strategy",
   "metadata": {},
   "outputs": [
    {
     "name": "stdout",
     "output_type": "stream",
     "text": [
      "Cantidad nulos: 357528\n",
      "Cantidad cruce: 37512\n"
     ]
    }
   ],
   "source": [
    "print('Cantidad nulos:', data_cross.preds.isnull().sum())\n",
    "print('Cantidad cruce:', data_cross.preds.notnull().sum())"
   ]
  },
  {
   "cell_type": "code",
   "execution_count": 12,
   "id": "inappropriate-concentrate",
   "metadata": {},
   "outputs": [
    {
     "name": "stdout",
     "output_type": "stream",
     "text": [
      "Cantidad nulos: 374793\n",
      "Cantidad cruce: 20247\n"
     ]
    }
   ],
   "source": [
    "print('Cantidad nulos:', data_cross.preds.isnull().sum())\n",
    "print('Cantidad cruce:', data_cross.preds.notnull().sum())"
   ]
  },
  {
   "cell_type": "code",
   "execution_count": 13,
   "id": "hidden-andrews",
   "metadata": {},
   "outputs": [
    {
     "name": "stdout",
     "output_type": "stream",
     "text": [
      "Cantidad nulos: 374793\n",
      "Cantidad cruce: 20247\n"
     ]
    }
   ],
   "source": [
    "print('Cantidad nulos:', data_cross.preds.isnull().sum())\n",
    "print('Cantidad cruce:', data_cross.preds.notnull().sum())"
   ]
  },
  {
   "cell_type": "code",
   "execution_count": 10,
   "id": "abstract-crazy",
   "metadata": {},
   "outputs": [
    {
     "data": {
      "text/plain": [
       "18660"
      ]
     },
     "execution_count": 10,
     "metadata": {},
     "output_type": "execute_result"
    }
   ],
   "source": [
    "data_cross[data_cross.flg_cross == True].preds.notnull().sum()"
   ]
  },
  {
   "cell_type": "code",
   "execution_count": 10,
   "id": "accepting-sailing",
   "metadata": {},
   "outputs": [
    {
     "data": {
      "text/plain": [
       "17166"
      ]
     },
     "execution_count": 10,
     "metadata": {},
     "output_type": "execute_result"
    }
   ],
   "source": [
    "data_cross[data_cross.flg_cross == True].preds.notnull().sum()"
   ]
  },
  {
   "cell_type": "code",
   "execution_count": 11,
   "id": "aging-regulation",
   "metadata": {},
   "outputs": [
    {
     "data": {
      "text/html": [
       "<div>\n",
       "<style scoped>\n",
       "    .dataframe tbody tr th:only-of-type {\n",
       "        vertical-align: middle;\n",
       "    }\n",
       "\n",
       "    .dataframe tbody tr th {\n",
       "        vertical-align: top;\n",
       "    }\n",
       "\n",
       "    .dataframe thead th {\n",
       "        text-align: right;\n",
       "    }\n",
       "</style>\n",
       "<table border=\"1\" class=\"dataframe\">\n",
       "  <thead>\n",
       "    <tr style=\"text-align: right;\">\n",
       "      <th></th>\n",
       "      <th>cuc</th>\n",
       "      <th>placa</th>\n",
       "      <th>periodo</th>\n",
       "      <th>flg_cross</th>\n",
       "      <th>preds</th>\n",
       "    </tr>\n",
       "  </thead>\n",
       "  <tbody>\n",
       "    <tr>\n",
       "      <th>161</th>\n",
       "      <td>1-09880600</td>\n",
       "      <td>AMJ508</td>\n",
       "      <td>202012</td>\n",
       "      <td>True</td>\n",
       "      <td>NaN</td>\n",
       "    </tr>\n",
       "    <tr>\n",
       "      <th>164</th>\n",
       "      <td>1-44081976</td>\n",
       "      <td>F0B087</td>\n",
       "      <td>202012</td>\n",
       "      <td>True</td>\n",
       "      <td>NaN</td>\n",
       "    </tr>\n",
       "    <tr>\n",
       "      <th>322</th>\n",
       "      <td>1-19870123</td>\n",
       "      <td>F5X092</td>\n",
       "      <td>202010</td>\n",
       "      <td>True</td>\n",
       "      <td>NaN</td>\n",
       "    </tr>\n",
       "    <tr>\n",
       "      <th>324</th>\n",
       "      <td>1-44243547</td>\n",
       "      <td>BEG283</td>\n",
       "      <td>201808</td>\n",
       "      <td>True</td>\n",
       "      <td>NaN</td>\n",
       "    </tr>\n",
       "    <tr>\n",
       "      <th>351</th>\n",
       "      <td>1-07446315</td>\n",
       "      <td>ADP525</td>\n",
       "      <td>201801</td>\n",
       "      <td>True</td>\n",
       "      <td>NaN</td>\n",
       "    </tr>\n",
       "  </tbody>\n",
       "</table>\n",
       "</div>"
      ],
      "text/plain": [
       "            cuc   placa periodo  flg_cross  preds\n",
       "161  1-09880600  AMJ508  202012       True    NaN\n",
       "164  1-44081976  F0B087  202012       True    NaN\n",
       "322  1-19870123  F5X092  202010       True    NaN\n",
       "324  1-44243547  BEG283  201808       True    NaN\n",
       "351  1-07446315  ADP525  201801       True    NaN"
      ]
     },
     "execution_count": 11,
     "metadata": {},
     "output_type": "execute_result"
    }
   ],
   "source": [
    "data_cross[(data_cross.flg_cross == True) & (data_cross.preds.isnull()) & (data_cross.placa != 'XXXXXX')].head()"
   ]
  },
  {
   "cell_type": "code",
   "execution_count": 33,
   "id": "realistic-aggregate",
   "metadata": {},
   "outputs": [
    {
     "data": {
      "text/html": [
       "<div>\n",
       "<style scoped>\n",
       "    .dataframe tbody tr th:only-of-type {\n",
       "        vertical-align: middle;\n",
       "    }\n",
       "\n",
       "    .dataframe tbody tr th {\n",
       "        vertical-align: top;\n",
       "    }\n",
       "\n",
       "    .dataframe thead th {\n",
       "        text-align: right;\n",
       "    }\n",
       "</style>\n",
       "<table border=\"1\" class=\"dataframe\">\n",
       "  <thead>\n",
       "    <tr style=\"text-align: right;\">\n",
       "      <th></th>\n",
       "      <th>cuc</th>\n",
       "      <th>placa</th>\n",
       "      <th>periodo</th>\n",
       "      <th>flg_cross</th>\n",
       "      <th>preds</th>\n",
       "    </tr>\n",
       "  </thead>\n",
       "  <tbody>\n",
       "    <tr>\n",
       "      <th>161</th>\n",
       "      <td>1-09880600</td>\n",
       "      <td>AMJ508</td>\n",
       "      <td>202012</td>\n",
       "      <td>True</td>\n",
       "      <td>NaN</td>\n",
       "    </tr>\n",
       "    <tr>\n",
       "      <th>164</th>\n",
       "      <td>1-44081976</td>\n",
       "      <td>F0B087</td>\n",
       "      <td>202012</td>\n",
       "      <td>True</td>\n",
       "      <td>NaN</td>\n",
       "    </tr>\n",
       "    <tr>\n",
       "      <th>268</th>\n",
       "      <td>1-44956524</td>\n",
       "      <td>BTD094</td>\n",
       "      <td>202012</td>\n",
       "      <td>True</td>\n",
       "      <td>NaN</td>\n",
       "    </tr>\n",
       "    <tr>\n",
       "      <th>316</th>\n",
       "      <td>1-40312066</td>\n",
       "      <td>BSD665</td>\n",
       "      <td>202010</td>\n",
       "      <td>True</td>\n",
       "      <td>NaN</td>\n",
       "    </tr>\n",
       "    <tr>\n",
       "      <th>322</th>\n",
       "      <td>1-19870123</td>\n",
       "      <td>F5X092</td>\n",
       "      <td>202010</td>\n",
       "      <td>True</td>\n",
       "      <td>NaN</td>\n",
       "    </tr>\n",
       "  </tbody>\n",
       "</table>\n",
       "</div>"
      ],
      "text/plain": [
       "            cuc   placa periodo  flg_cross  preds\n",
       "161  1-09880600  AMJ508  202012       True    NaN\n",
       "164  1-44081976  F0B087  202012       True    NaN\n",
       "268  1-44956524  BTD094  202012       True    NaN\n",
       "316  1-40312066  BSD665  202010       True    NaN\n",
       "322  1-19870123  F5X092  202010       True    NaN"
      ]
     },
     "execution_count": 33,
     "metadata": {},
     "output_type": "execute_result"
    }
   ],
   "source": [
    "data_cross[(data_cross.flg_cross == True) & (data_cross.preds.isnull()) & (data_cross.placa != 'XXXXXX')].head()"
   ]
  },
  {
   "cell_type": "code",
   "execution_count": 13,
   "id": "precious-circulation",
   "metadata": {},
   "outputs": [
    {
     "data": {
      "text/html": [
       "<div>\n",
       "<style scoped>\n",
       "    .dataframe tbody tr th:only-of-type {\n",
       "        vertical-align: middle;\n",
       "    }\n",
       "\n",
       "    .dataframe tbody tr th {\n",
       "        vertical-align: top;\n",
       "    }\n",
       "\n",
       "    .dataframe thead th {\n",
       "        text-align: right;\n",
       "    }\n",
       "</style>\n",
       "<table border=\"1\" class=\"dataframe\">\n",
       "  <thead>\n",
       "    <tr style=\"text-align: right;\">\n",
       "      <th></th>\n",
       "      <th>periodo_target</th>\n",
       "      <th>cuc</th>\n",
       "      <th>placa</th>\n",
       "      <th>target</th>\n",
       "      <th>preds</th>\n",
       "      <th>periodo</th>\n",
       "    </tr>\n",
       "  </thead>\n",
       "  <tbody>\n",
       "    <tr>\n",
       "      <th>314449</th>\n",
       "      <td>201601</td>\n",
       "      <td>1-07446315</td>\n",
       "      <td>C1O195</td>\n",
       "      <td>1.0</td>\n",
       "      <td>0.791279</td>\n",
       "      <td>201601</td>\n",
       "    </tr>\n",
       "    <tr>\n",
       "      <th>322345</th>\n",
       "      <td>201904</td>\n",
       "      <td>1-07446315</td>\n",
       "      <td>B7Z895</td>\n",
       "      <td>1.0</td>\n",
       "      <td>0.098122</td>\n",
       "      <td>201904</td>\n",
       "    </tr>\n",
       "    <tr>\n",
       "      <th>322355</th>\n",
       "      <td>201904</td>\n",
       "      <td>1-07446315</td>\n",
       "      <td>C1O195</td>\n",
       "      <td>1.0</td>\n",
       "      <td>0.165483</td>\n",
       "      <td>201904</td>\n",
       "    </tr>\n",
       "    <tr>\n",
       "      <th>920399</th>\n",
       "      <td>201601</td>\n",
       "      <td>1-07446315</td>\n",
       "      <td>ADP525</td>\n",
       "      <td>1.0</td>\n",
       "      <td>0.909112</td>\n",
       "      <td>201601</td>\n",
       "    </tr>\n",
       "    <tr>\n",
       "      <th>1051462</th>\n",
       "      <td>201601</td>\n",
       "      <td>1-07446315</td>\n",
       "      <td>ADP525</td>\n",
       "      <td>1.0</td>\n",
       "      <td>0.909112</td>\n",
       "      <td>201601</td>\n",
       "    </tr>\n",
       "    <tr>\n",
       "      <th>1390558</th>\n",
       "      <td>201601</td>\n",
       "      <td>1-07446315</td>\n",
       "      <td>LQ5763</td>\n",
       "      <td>1.0</td>\n",
       "      <td>0.137792</td>\n",
       "      <td>201601</td>\n",
       "    </tr>\n",
       "    <tr>\n",
       "      <th>1555179</th>\n",
       "      <td>201904</td>\n",
       "      <td>1-07446315</td>\n",
       "      <td>ADP525</td>\n",
       "      <td>1.0</td>\n",
       "      <td>0.613150</td>\n",
       "      <td>201904</td>\n",
       "    </tr>\n",
       "    <tr>\n",
       "      <th>1711235</th>\n",
       "      <td>201904</td>\n",
       "      <td>1-07446315</td>\n",
       "      <td>C1O195</td>\n",
       "      <td>1.0</td>\n",
       "      <td>0.165483</td>\n",
       "      <td>201904</td>\n",
       "    </tr>\n",
       "  </tbody>\n",
       "</table>\n",
       "</div>"
      ],
      "text/plain": [
       "         periodo_target         cuc   placa  target     preds periodo\n",
       "314449           201601  1-07446315  C1O195     1.0  0.791279  201601\n",
       "322345           201904  1-07446315  B7Z895     1.0  0.098122  201904\n",
       "322355           201904  1-07446315  C1O195     1.0  0.165483  201904\n",
       "920399           201601  1-07446315  ADP525     1.0  0.909112  201601\n",
       "1051462          201601  1-07446315  ADP525     1.0  0.909112  201601\n",
       "1390558          201601  1-07446315  LQ5763     1.0  0.137792  201601\n",
       "1555179          201904  1-07446315  ADP525     1.0  0.613150  201904\n",
       "1711235          201904  1-07446315  C1O195     1.0  0.165483  201904"
      ]
     },
     "execution_count": 13,
     "metadata": {},
     "output_type": "execute_result"
    }
   ],
   "source": [
    "data[data.cuc == '1-07446315']"
   ]
  },
  {
   "cell_type": "code",
   "execution_count": 16,
   "id": "sixth-penetration",
   "metadata": {},
   "outputs": [
    {
     "data": {
      "text/plain": [
       "(9038, 5)"
      ]
     },
     "execution_count": 16,
     "metadata": {},
     "output_type": "execute_result"
    }
   ],
   "source": [
    "data_cross[(data_cross.flg_cross == True) & (data_cross.placa == 'XXXXXX')].shape"
   ]
  },
  {
   "cell_type": "code",
   "execution_count": 11,
   "id": "understanding-decline",
   "metadata": {},
   "outputs": [
    {
     "data": {
      "text/plain": [
       "38750"
      ]
     },
     "execution_count": 11,
     "metadata": {},
     "output_type": "execute_result"
    }
   ],
   "source": [
    "data_cross.flg_cross.sum()"
   ]
  },
  {
   "cell_type": "code",
   "execution_count": null,
   "id": "identical-beijing",
   "metadata": {},
   "outputs": [],
   "source": []
  },
  {
   "cell_type": "code",
   "execution_count": 14,
   "id": "attached-shock",
   "metadata": {},
   "outputs": [
    {
     "data": {
      "text/plain": [
       "(11239, 5)"
      ]
     },
     "execution_count": 14,
     "metadata": {},
     "output_type": "execute_result"
    }
   ],
   "source": [
    "data_cross[(data_cross.preds.notnull()) & (data_cross.flg_cross == False)].shape"
   ]
  },
  {
   "cell_type": "code",
   "execution_count": 15,
   "id": "recreational-wichita",
   "metadata": {},
   "outputs": [
    {
     "data": {
      "text/plain": [
       "(9008, 5)"
      ]
     },
     "execution_count": 15,
     "metadata": {},
     "output_type": "execute_result"
    }
   ],
   "source": [
    "data_cross[(data_cross.preds.notnull()) & (data_cross.flg_cross == True)].shape"
   ]
  },
  {
   "cell_type": "code",
   "execution_count": 25,
   "id": "arabic-logging",
   "metadata": {},
   "outputs": [
    {
     "data": {
      "text/plain": [
       "0.8938915197773527"
      ]
     },
     "execution_count": 25,
     "metadata": {},
     "output_type": "execute_result"
    }
   ],
   "source": [
    "data_cross[(data_cross.preds.notnull())].preds.median()"
   ]
  },
  {
   "cell_type": "code",
   "execution_count": 20,
   "id": "sorted-madonna",
   "metadata": {},
   "outputs": [
    {
     "data": {
      "text/plain": [
       "0.9997059032449844"
      ]
     },
     "execution_count": 20,
     "metadata": {},
     "output_type": "execute_result"
    }
   ],
   "source": [
    "data_cross[(data_cross.preds.notnull())].preds.max()"
   ]
  },
  {
   "cell_type": "code",
   "execution_count": 20,
   "id": "limited-nickel",
   "metadata": {},
   "outputs": [
    {
     "data": {
      "text/plain": [
       "0.9997059032449844"
      ]
     },
     "execution_count": 20,
     "metadata": {},
     "output_type": "execute_result"
    }
   ],
   "source": [
    "data_cross[(data_cross.preds.notnull())].preds.max()"
   ]
  },
  {
   "cell_type": "code",
   "execution_count": 44,
   "id": "interracial-corpus",
   "metadata": {},
   "outputs": [
    {
     "data": {
      "text/plain": [
       "(29301, 6)"
      ]
     },
     "execution_count": 44,
     "metadata": {},
     "output_type": "execute_result"
    }
   ],
   "source": [
    "data_cross[(data_cross.flg_cross == True) & (data_cross.placa != 'XXXXXX')].shape"
   ]
  },
  {
   "cell_type": "code",
   "execution_count": 26,
   "id": "frequent-employer",
   "metadata": {},
   "outputs": [],
   "source": [
    "df_temp = data_cross[(data_cross.preds.notnull())].reset_index(drop=True).copy()\n",
    "df_temp['decile'] = pd.cut(df_temp.preds, [1.49895563e-05, 5.33033580e-03, 1.11263409e-02, 2.06319170e-02,\n",
    "       3.71802842e-02, 6.63849774e-02, 1.24757035e-01, 2.55074497e-01,\n",
    "       5.43542687e-01, 8.91139470e-01, 9.99757476e-01])"
   ]
  },
  {
   "cell_type": "code",
   "execution_count": 27,
   "id": "accredited-burton",
   "metadata": {},
   "outputs": [
    {
     "data": {
      "text/html": [
       "<div>\n",
       "<style scoped>\n",
       "    .dataframe tbody tr th:only-of-type {\n",
       "        vertical-align: middle;\n",
       "    }\n",
       "\n",
       "    .dataframe tbody tr th {\n",
       "        vertical-align: top;\n",
       "    }\n",
       "\n",
       "    .dataframe thead th {\n",
       "        text-align: right;\n",
       "    }\n",
       "</style>\n",
       "<table border=\"1\" class=\"dataframe\">\n",
       "  <thead>\n",
       "    <tr style=\"text-align: right;\">\n",
       "      <th></th>\n",
       "      <th>cuc</th>\n",
       "    </tr>\n",
       "    <tr>\n",
       "      <th>decile</th>\n",
       "      <th></th>\n",
       "    </tr>\n",
       "  </thead>\n",
       "  <tbody>\n",
       "    <tr>\n",
       "      <th>(1.5e-05, 0.00533]</th>\n",
       "      <td>332</td>\n",
       "    </tr>\n",
       "    <tr>\n",
       "      <th>(0.00533, 0.0111]</th>\n",
       "      <td>247</td>\n",
       "    </tr>\n",
       "    <tr>\n",
       "      <th>(0.0111, 0.0206]</th>\n",
       "      <td>228</td>\n",
       "    </tr>\n",
       "    <tr>\n",
       "      <th>(0.0206, 0.0372]</th>\n",
       "      <td>172</td>\n",
       "    </tr>\n",
       "    <tr>\n",
       "      <th>(0.0372, 0.0664]</th>\n",
       "      <td>193</td>\n",
       "    </tr>\n",
       "    <tr>\n",
       "      <th>(0.0664, 0.125]</th>\n",
       "      <td>212</td>\n",
       "    </tr>\n",
       "    <tr>\n",
       "      <th>(0.125, 0.255]</th>\n",
       "      <td>523</td>\n",
       "    </tr>\n",
       "    <tr>\n",
       "      <th>(0.255, 0.544]</th>\n",
       "      <td>1540</td>\n",
       "    </tr>\n",
       "    <tr>\n",
       "      <th>(0.544, 0.891]</th>\n",
       "      <td>6535</td>\n",
       "    </tr>\n",
       "    <tr>\n",
       "      <th>(0.891, 1.0]</th>\n",
       "      <td>10265</td>\n",
       "    </tr>\n",
       "  </tbody>\n",
       "</table>\n",
       "</div>"
      ],
      "text/plain": [
       "                      cuc\n",
       "decile                   \n",
       "(1.5e-05, 0.00533]    332\n",
       "(0.00533, 0.0111]     247\n",
       "(0.0111, 0.0206]      228\n",
       "(0.0206, 0.0372]      172\n",
       "(0.0372, 0.0664]      193\n",
       "(0.0664, 0.125]       212\n",
       "(0.125, 0.255]        523\n",
       "(0.255, 0.544]       1540\n",
       "(0.544, 0.891]       6535\n",
       "(0.891, 1.0]        10265"
      ]
     },
     "execution_count": 27,
     "metadata": {},
     "output_type": "execute_result"
    }
   ],
   "source": [
    "df_temp.groupby(['decile'])[['cuc']].count()"
   ]
  },
  {
   "cell_type": "code",
   "execution_count": 9,
   "id": "typical-conjunction",
   "metadata": {},
   "outputs": [
    {
     "data": {
      "text/plain": [
       "(395040, 5)"
      ]
     },
     "execution_count": 9,
     "metadata": {},
     "output_type": "execute_result"
    }
   ],
   "source": [
    "data_cross.shape"
   ]
  },
  {
   "cell_type": "code",
   "execution_count": 28,
   "id": "signal-bread",
   "metadata": {},
   "outputs": [
    {
     "data": {
      "text/plain": [
       "0.6910003071567523"
      ]
     },
     "execution_count": 28,
     "metadata": {},
     "output_type": "execute_result"
    }
   ],
   "source": [
    "20247 / 29301"
   ]
  },
  {
   "cell_type": "code",
   "execution_count": 52,
   "id": "aerial-american",
   "metadata": {},
   "outputs": [
    {
     "data": {
      "text/html": [
       "<div>\n",
       "<style scoped>\n",
       "    .dataframe tbody tr th:only-of-type {\n",
       "        vertical-align: middle;\n",
       "    }\n",
       "\n",
       "    .dataframe tbody tr th {\n",
       "        vertical-align: top;\n",
       "    }\n",
       "\n",
       "    .dataframe thead th {\n",
       "        text-align: right;\n",
       "    }\n",
       "</style>\n",
       "<table border=\"1\" class=\"dataframe\">\n",
       "  <thead>\n",
       "    <tr style=\"text-align: right;\">\n",
       "      <th></th>\n",
       "      <th>periodo_target</th>\n",
       "      <th>cuc</th>\n",
       "      <th>placa</th>\n",
       "      <th>target</th>\n",
       "      <th>preds</th>\n",
       "      <th>periodo</th>\n",
       "    </tr>\n",
       "  </thead>\n",
       "  <tbody>\n",
       "    <tr>\n",
       "      <th>1546951</th>\n",
       "      <td>201903</td>\n",
       "      <td>1-08773200</td>\n",
       "      <td>AMJ508</td>\n",
       "      <td>0.0</td>\n",
       "      <td>0.546973</td>\n",
       "      <td>201903</td>\n",
       "    </tr>\n",
       "  </tbody>\n",
       "</table>\n",
       "</div>"
      ],
      "text/plain": [
       "         periodo_target         cuc   placa  target     preds periodo\n",
       "1546951          201903  1-08773200  AMJ508     0.0  0.546973  201903"
      ]
     },
     "execution_count": 52,
     "metadata": {},
     "output_type": "execute_result"
    }
   ],
   "source": [
    "data[(data.placa == 'AMJ508')].head()"
   ]
  },
  {
   "cell_type": "code",
   "execution_count": 53,
   "id": "embedded-citizen",
   "metadata": {},
   "outputs": [
    {
     "data": {
      "text/html": [
       "<div>\n",
       "<style scoped>\n",
       "    .dataframe tbody tr th:only-of-type {\n",
       "        vertical-align: middle;\n",
       "    }\n",
       "\n",
       "    .dataframe tbody tr th {\n",
       "        vertical-align: top;\n",
       "    }\n",
       "\n",
       "    .dataframe thead th {\n",
       "        text-align: right;\n",
       "    }\n",
       "</style>\n",
       "<table border=\"1\" class=\"dataframe\">\n",
       "  <thead>\n",
       "    <tr style=\"text-align: right;\">\n",
       "      <th></th>\n",
       "      <th>cuc</th>\n",
       "      <th>placa</th>\n",
       "      <th>periodo</th>\n",
       "      <th>flg_cross</th>\n",
       "    </tr>\n",
       "  </thead>\n",
       "  <tbody>\n",
       "    <tr>\n",
       "      <th>161</th>\n",
       "      <td>1-09880600</td>\n",
       "      <td>AMJ508</td>\n",
       "      <td>202012</td>\n",
       "      <td>True</td>\n",
       "    </tr>\n",
       "  </tbody>\n",
       "</table>\n",
       "</div>"
      ],
      "text/plain": [
       "            cuc   placa periodo  flg_cross\n",
       "161  1-09880600  AMJ508  202012       True"
      ]
     },
     "execution_count": 53,
     "metadata": {},
     "output_type": "execute_result"
    }
   ],
   "source": [
    "data_cross_ant[(data_cross_ant.placa == 'AMJ508')].head()"
   ]
  },
  {
   "cell_type": "code",
   "execution_count": 16,
   "id": "brazilian-saskatchewan",
   "metadata": {},
   "outputs": [
    {
     "name": "stdout",
     "output_type": "stream",
     "text": [
      "Cantidad nulos: 380313\n",
      "Cantidad cruce: 18261\n"
     ]
    }
   ],
   "source": [
    "print('Cantidad nulos:', data_cross.preds.isnull().sum())\n",
    "print('Cantidad cruce:', data_cross.preds.notnull().sum())"
   ]
  },
  {
   "cell_type": "code",
   "execution_count": 29,
   "id": "standard-overall",
   "metadata": {},
   "outputs": [],
   "source": [
    "#Reescalamiento de probabilidades\n",
    "def rescaling(prob,corte):\n",
    "    if prob<corte:\n",
    "        a,b,c,d = 0,corte, 0,.5\n",
    "    else:\n",
    "        a,b,c,d = corte, 1 , 0.5,1\n",
    "    return (prob-a) / (b-a) * (d-c) + c"
   ]
  },
  {
   "cell_type": "code",
   "execution_count": 31,
   "id": "addressed-grain",
   "metadata": {},
   "outputs": [],
   "source": [
    "corte = 0.05495982984048662\n"
   ]
  },
  {
   "cell_type": "code",
   "execution_count": 50,
   "id": "hollow-procedure",
   "metadata": {},
   "outputs": [],
   "source": [
    "data_cross['pred_rescaling'] = data_cross['preds'].apply(lambda prob: rescaling(prob, corte))"
   ]
  },
  {
   "cell_type": "code",
   "execution_count": 51,
   "id": "honest-playing",
   "metadata": {},
   "outputs": [
    {
     "data": {
      "text/html": [
       "<div>\n",
       "<style scoped>\n",
       "    .dataframe tbody tr th:only-of-type {\n",
       "        vertical-align: middle;\n",
       "    }\n",
       "\n",
       "    .dataframe tbody tr th {\n",
       "        vertical-align: top;\n",
       "    }\n",
       "\n",
       "    .dataframe thead th {\n",
       "        text-align: right;\n",
       "    }\n",
       "</style>\n",
       "<table border=\"1\" class=\"dataframe\">\n",
       "  <thead>\n",
       "    <tr style=\"text-align: right;\">\n",
       "      <th></th>\n",
       "      <th>cuc</th>\n",
       "      <th>placa</th>\n",
       "      <th>periodo</th>\n",
       "      <th>flg_cross</th>\n",
       "      <th>preds</th>\n",
       "      <th>pred_rescaling</th>\n",
       "    </tr>\n",
       "  </thead>\n",
       "  <tbody>\n",
       "    <tr>\n",
       "      <th>19</th>\n",
       "      <td>1-32643723</td>\n",
       "      <td>BCA608</td>\n",
       "      <td>201804</td>\n",
       "      <td>False</td>\n",
       "      <td>0.996020</td>\n",
       "      <td>0.997894</td>\n",
       "    </tr>\n",
       "    <tr>\n",
       "      <th>51</th>\n",
       "      <td>1-44385354</td>\n",
       "      <td>D1A287</td>\n",
       "      <td>202005</td>\n",
       "      <td>True</td>\n",
       "      <td>0.926888</td>\n",
       "      <td>0.961318</td>\n",
       "    </tr>\n",
       "    <tr>\n",
       "      <th>56</th>\n",
       "      <td>1-43805414</td>\n",
       "      <td>BAW631</td>\n",
       "      <td>201907</td>\n",
       "      <td>True</td>\n",
       "      <td>0.936525</td>\n",
       "      <td>0.966417</td>\n",
       "    </tr>\n",
       "    <tr>\n",
       "      <th>122</th>\n",
       "      <td>1-41186696</td>\n",
       "      <td>C3Z298</td>\n",
       "      <td>201806</td>\n",
       "      <td>True</td>\n",
       "      <td>0.996080</td>\n",
       "      <td>0.997926</td>\n",
       "    </tr>\n",
       "    <tr>\n",
       "      <th>131</th>\n",
       "      <td>1-45802751</td>\n",
       "      <td>AJW591</td>\n",
       "      <td>202002</td>\n",
       "      <td>True</td>\n",
       "      <td>0.653102</td>\n",
       "      <td>0.816464</td>\n",
       "    </tr>\n",
       "  </tbody>\n",
       "</table>\n",
       "</div>"
      ],
      "text/plain": [
       "            cuc   placa periodo  flg_cross     preds  pred_rescaling\n",
       "19   1-32643723  BCA608  201804      False  0.996020        0.997894\n",
       "51   1-44385354  D1A287  202005       True  0.926888        0.961318\n",
       "56   1-43805414  BAW631  201907       True  0.936525        0.966417\n",
       "122  1-41186696  C3Z298  201806       True  0.996080        0.997926\n",
       "131  1-45802751  AJW591  202002       True  0.653102        0.816464"
      ]
     },
     "execution_count": 51,
     "metadata": {},
     "output_type": "execute_result"
    }
   ],
   "source": [
    "data_cross[data_cross.preds.notnull()].head()"
   ]
  },
  {
   "cell_type": "code",
   "execution_count": 49,
   "id": "tight-longitude",
   "metadata": {},
   "outputs": [
    {
     "data": {
      "text/plain": [
       "{'paths': ['s3://rimac-analytics-temporal/individuals/Dante/cross_prop_veh/temp/unificacion_tmp/9c511382ec6b4d35b5dde3cf65da6c33.snappy.parquet'],\n",
       " 'partitions_values': {}}"
      ]
     },
     "execution_count": 49,
     "metadata": {},
     "output_type": "execute_result"
    }
   ],
   "source": [
    "wr.s3.to_parquet(\n",
    "        df=data_cross,\n",
    "        path=f's3://rimac-analytics-temporal/individuals/Dante/cross_prop_veh/temp/unificacion_tmp/',\n",
    "        mode='overwrite',\n",
    "        dataset=True,\n",
    "        database=\"coe_analytics_tmp\",\n",
    "        table=f\"cross_veh_tmp\"\n",
    ")"
   ]
  },
  {
   "cell_type": "code",
   "execution_count": null,
   "id": "asian-contributor",
   "metadata": {},
   "outputs": [],
   "source": []
  }
 ],
 "metadata": {
  "kernelspec": {
   "display_name": "conda_python3",
   "language": "python",
   "name": "conda_python3"
  },
  "language_info": {
   "codemirror_mode": {
    "name": "ipython",
    "version": 3
   },
   "file_extension": ".py",
   "mimetype": "text/x-python",
   "name": "python",
   "nbconvert_exporter": "python",
   "pygments_lexer": "ipython3",
   "version": "3.6.13"
  }
 },
 "nbformat": 4,
 "nbformat_minor": 5
}
