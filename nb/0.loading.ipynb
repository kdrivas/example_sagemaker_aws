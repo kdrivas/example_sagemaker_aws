{
 "cells": [
  {
   "cell_type": "code",
   "execution_count": 1,
   "metadata": {},
   "outputs": [
    {
     "data": {
      "text/plain": [
       "'202102'"
      ]
     },
     "execution_count": 1,
     "metadata": {},
     "output_type": "execute_result"
    }
   ],
   "source": [
    "import awswrangler as wr\n",
    "import datetime\n",
    "from datetime import date \n",
    "\n",
    "today = date.today()\n",
    "day, month, year = (today - datetime.timedelta(days=60)).strftime(\"%d/%m/%Y\").split('/')\n",
    "period = year + month\n",
    "period"
   ]
  },
  {
   "cell_type": "code",
   "execution_count": 2,
   "metadata": {},
   "outputs": [],
   "source": [
    "q = \"\"\"\n",
    "with tmp as (\n",
    "select tipodocumento||'-'||documento cuc, \n",
    "        scoreingreso, b.rango , alta, situacion, e_giro, tipotrabajador  ,\n",
    "       row_number() over (partition by documento order by alta desc) num\n",
    "  from  Procesosda.base_dependientes a\n",
    "  left join Procesosda.base_dependientes_rangos b on a.scoreingreso = b.score\n",
    ")\n",
    "select cuc, scoreingreso, rango, alta, situacion, e_giro, tipotrabajador\n",
    "from tmp where num = 1;\n",
    "\"\"\"\n",
    "df_dependientes = wr.athena.read_sql_query(q, database=\"bdax_acselx\")"
   ]
  },
  {
   "cell_type": "code",
   "execution_count": 5,
   "metadata": {},
   "outputs": [
    {
     "data": {
      "text/plain": [
       "{'paths': ['s3://rimac-analytics-temporal/individuals/Dante/cross_prop_veh/data/interm/load/tbl_dependientes/92295f6c6b8b455e9d2be38dbaac4959.snappy.parquet'],\n",
       " 'partitions_values': {}}"
      ]
     },
     "execution_count": 5,
     "metadata": {},
     "output_type": "execute_result"
    }
   ],
   "source": [
    "wr.s3.to_parquet(\n",
    "        df=df_dependientes.reset_index(drop=True),\n",
    "        path='s3://rimac-analytics-temporal/individuals/Dante/cross_prop_veh/data/interm/load/tbl_dependientes/',\n",
    "        mode='overwrite',\n",
    "        dataset=True,\n",
    "        database=\"coe_analytics_tmp\",\n",
    "        table=\"ao_crossde_dep\"\n",
    ")"
   ]
  },
  {
   "cell_type": "code",
   "execution_count": 4,
   "metadata": {},
   "outputs": [
    {
     "data": {
      "text/plain": [
       "'dbbe805f-6163-434b-bc79-aecb26d2b95b'"
      ]
     },
     "execution_count": 4,
     "metadata": {},
     "output_type": "execute_result"
    }
   ],
   "source": [
    "q = f\"\"\"\n",
    "CREATE TABLE coe_analytics_tmp.ao_cross3_tmp00\n",
    "\twith (\n",
    "\t format = 'parquet',\n",
    "\t parquet_compression = 'snappy',\n",
    "\t external_location = 's3://rimac-analytics-temporal/individuals/Antonio Ordonez/data/base_cross/ao_cross3_tmp00'\n",
    "\t)  as \n",
    "\t   with tmp_canales as (\n",
    "\t\t\tselect canal, id_canalnt\n",
    "\t\t\tfrom bdrrvv_app_datman.per_clientes_detalle\n",
    "\t\t\tgroup by canal, id_canalnt\n",
    "\t\t)\n",
    "\t  \n",
    "\t  select periodo, cuc , id_producto, riesgo , canal, \n",
    "\t       cast( ( case when  REPLACE(prima_cont,'[^0-9.]', '') = '' then null\n",
    "\t                    else  REPLACE(prima_cont,'[^0-9.]', '') end )\n",
    "\t                as double) prima_cont\n",
    "\t  from bdrrvv_app_datman.per_clientes_detalle\n",
    "\t  where periodo >= '201501' and periodo <= '201712' \n",
    "\t  --\n",
    "\t  union all\n",
    "\t  --\n",
    "\t  select  a.periodo, a.cuc, a.id_producto, a.riesgo,\n",
    "\t\t        a.canaldes canal, \n",
    "\t\t        cast(a.prima_emitida as double) prima_cont\n",
    "\t  from mis_clientes.dim_modelo_clientes a\n",
    "\t  where periodo >= '201801'  and periodo <= '{period}' -- limitar perido cerrado\n",
    "\t    and id_producto not in ('4001','4075','9030','1304','1355','4062','1357','4020','4061','4028','1996','3101','4063','1403')\n",
    "\t    and vigencia ='VIGENTE' \n",
    "\t    and tipo_stock != 'Caduco';\n",
    "\"\"\"\n",
    "\n",
    "wr.s3.delete_objects('s3://rimac-analytics-temporal/individuals/Antonio Ordonez/data/base_cross/ao_cross3_tmp00')\n",
    "\n",
    "query_id = wr.athena.start_query_execution('DROP TABLE coe_analytics_tmp.ao_cross3_tmp00;', database='coe_analytics_tmp')\n",
    "res = wr.athena.wait_query(query_execution_id=query_id)\n",
    "\n",
    "query_id = wr.athena.start_query_execution(q, database='coe_analytics_tmp', )\n",
    "res = wr.athena.wait_query(query_execution_id=query_id)"
   ]
  },
  {
   "cell_type": "code",
   "execution_count": 7,
   "metadata": {},
   "outputs": [],
   "source": [
    "q = \"\"\"\n",
    "CREATE TABLE coe_analytics_tmp.ao_cross3_tmp01 \n",
    "with (\n",
    " format = 'parquet',\n",
    " parquet_compression = 'snappy',\n",
    " external_location = 's3://rimac-analytics-temporal/individuals/Antonio Ordonez/data/base_cross/ao_cross3_tmp01'\n",
    ")  as \n",
    " SELECT a.periodo, a.cuc,  b.GRUPO_RES as GRUPO_ANALYTICS, \n",
    "       sum(prima_cont) PRIMA\n",
    " FROM coe_analytics_tmp.ao_cross3_tmp00 A\n",
    " LEFT JOIN coe_analytics_tmp.ao_cross_gruposnew B on a.id_producto = b.id_producto\n",
    "GROUP BY periodo, cuc, a.id_producto, b.GRUPO_RES;\n",
    "\"\"\"\n",
    "\n",
    "wr.s3.delete_objects('s3://rimac-analytics-temporal/individuals/Antonio Ordonez/data/base_cross/ao_cross3_tmp01')\n",
    "\n",
    "query_id = wr.athena.start_query_execution('DROP TABLE coe_analytics_tmp.ao_cross3_tmp01;', database='coe_analytics_tmp')\n",
    "res = wr.athena.wait_query(query_execution_id=query_id)\n",
    "\n",
    "query_id = wr.athena.start_query_execution(q, database='coe_analytics_tmp', )\n",
    "res = wr.athena.wait_query(query_execution_id=query_id)"
   ]
  },
  {
   "cell_type": "code",
   "execution_count": 8,
   "metadata": {},
   "outputs": [],
   "source": [
    "q = \"\"\"\n",
    "CREATE TABLE coe_analytics_tmp.ao_cross3_tmp001  \n",
    "\twith (\n",
    "\t format = 'parquet',\n",
    "\t parquet_compression = 'snappy',\n",
    "\t external_location = 's3://rimac-analytics-temporal/individuals/Antonio Ordonez/data/base_cross/ao_cross3_tmp001'\n",
    "\t)  as \n",
    "\tSELECT PERIODO, cuc, array_join(array_agg(GRUPO_ANALYTICS),'/') GRUPO_ANALYTICS_concat,\n",
    "\t     SUM(PRIMA) PRIMA\n",
    "\tFROM coe_analytics_tmp.ao_cross3_tmp01 \n",
    "\tGROUP BY PERIODO, cuc;\n",
    "\"\"\"\n",
    "\n",
    "wr.s3.delete_objects('s3://rimac-analytics-temporal/individuals/Antonio Ordonez/data/base_cross/ao_cross3_tmp001')\n",
    "\n",
    "query_id = wr.athena.start_query_execution('DROP TABLE coe_analytics_tmp.ao_cross3_tmp001;', database='coe_analytics_tmp')\n",
    "res = wr.athena.wait_query(query_execution_id=query_id)\n",
    "\n",
    "query_id = wr.athena.start_query_execution(q, database='coe_analytics_tmp', )\n",
    "res = wr.athena.wait_query(query_execution_id=query_id)"
   ]
  },
  {
   "cell_type": "code",
   "execution_count": 9,
   "metadata": {},
   "outputs": [],
   "source": [
    "q = \"\"\"\n",
    "CREATE TABLE coe_analytics_tmp.ao_cross3_cr\n",
    "with (\n",
    " format = 'parquet',\n",
    " parquet_compression = 'snappy',\n",
    " external_location = 's3://rimac-analytics-temporal/individuals/Antonio Ordonez/data/base_cross/ao_cross3_cr'\n",
    ")  as \n",
    "SELECT PERIODO, cuc, array_join(array_agg(RIESGO),'/') COMBO_RIESGOS \n",
    "FROM (SELECT DISTINCT PERIODO, cuc, RIESGO \n",
    "      FROM coe_analytics_tmp.ao_cross3_tmp00) GROUP BY PERIODO, cuc;\n",
    "\"\"\"\n",
    "\n",
    "wr.s3.delete_objects('s3://rimac-analytics-temporal/individuals/Antonio Ordonez/data/base_cross/ao_cross3_cr')\n",
    "\n",
    "query_id = wr.athena.start_query_execution('DROP TABLE coe_analytics_tmp.ao_cross3_cr;', database='coe_analytics_tmp')\n",
    "res = wr.athena.wait_query(query_execution_id=query_id)\n",
    "\n",
    "query_id = wr.athena.start_query_execution(q, database='coe_analytics_tmp', )\n",
    "res = wr.athena.wait_query(query_execution_id=query_id)"
   ]
  },
  {
   "cell_type": "code",
   "execution_count": 10,
   "metadata": {},
   "outputs": [],
   "source": [
    "q = \"\"\"\n",
    "CREATE TABLE coe_analytics_tmp.ao_cross3_cc  \n",
    "with (\n",
    " format = 'parquet',\n",
    " parquet_compression = 'snappy',\n",
    " external_location = 's3://rimac-analytics-temporal/individuals/Antonio Ordonez/data/base_cross/ao_cross3_cc'\n",
    ")  as \n",
    "SELECT PERIODO, cuc, array_join(array_agg(CANAL),'/') COMBO_CANALES\n",
    "FROM (SELECT DISTINCT PERIODO, cuc, CANAL \n",
    "      FROM coe_analytics_tmp.ao_cross3_tmp00 ) GROUP BY PERIODO, cuc;\n",
    "\"\"\"\n",
    "\n",
    "wr.s3.delete_objects('s3://rimac-analytics-temporal/individuals/Antonio Ordonez/data/base_cross/ao_cross3_cc')\n",
    "\n",
    "query_id = wr.athena.start_query_execution('DROP TABLE coe_analytics_tmp.ao_cross3_cc;', database='coe_analytics_tmp')\n",
    "res = wr.athena.wait_query(query_execution_id=query_id)\n",
    "\n",
    "query_id = wr.athena.start_query_execution(q, database='coe_analytics_tmp', )\n",
    "res = wr.athena.wait_query(query_execution_id=query_id)"
   ]
  },
  {
   "cell_type": "code",
   "execution_count": 11,
   "metadata": {},
   "outputs": [],
   "source": [
    "q = \"\"\"\n",
    "CREATE TABLE coe_analytics_tmp.ao_cross3_tmp04  \n",
    "with (\n",
    " format = 'parquet',\n",
    " parquet_compression = 'snappy',\n",
    " external_location = 's3://rimac-analytics-temporal/individuals/Antonio Ordonez/data/base_cross/ao_cross3_tmp04'\n",
    ")  as \n",
    "SELECT A.PERIODO, A.cuc, A.GRUPO_ANALYTICS_concat, A.PRIMA, C1.COMBO_RIESGOS, C2.COMBO_CANALES,\n",
    "first_value(A.periodo) over (partition by A.cuc order by a.periodo ) first_periodo\n",
    "\n",
    "FROM coe_analytics_tmp.ao_cross3_tmp001 A\n",
    "LEFT JOIN coe_analytics_tmp.ao_cross3_cr C1 ON A.cuc = C1.cuc AND A.PERIODO = C1.PERIODO\n",
    "LEFT JOIN coe_analytics_tmp.ao_cross3_cc C2 ON A.cuc = C2.cuc AND A.PERIODO = C2.PERIODO;\n",
    "\"\"\"\n",
    "\n",
    "wr.s3.delete_objects('s3://rimac-analytics-temporal/individuals/Antonio Ordonez/data/base_cross/ao_cross3_tmp04')\n",
    "\n",
    "query_id = wr.athena.start_query_execution('DROP TABLE coe_analytics_tmp.ao_cross3_tmp04;', database='coe_analytics_tmp')\n",
    "res = wr.athena.wait_query(query_execution_id=query_id)\n",
    "\n",
    "query_id = wr.athena.start_query_execution(q, database='coe_analytics_tmp', )\n",
    "res = wr.athena.wait_query(query_execution_id=query_id)"
   ]
  },
  {
   "cell_type": "code",
   "execution_count": 13,
   "metadata": {},
   "outputs": [],
   "source": [
    "q = \"\"\"\n",
    "CREATE TABLE coe_analytics_tmp.ao_cross3_tmp03\n",
    "with (\n",
    " format = 'parquet',\n",
    " parquet_compression = 'snappy',\n",
    " external_location = 's3://rimac-analytics-temporal/individuals/Antonio Ordonez/data/base_cross/ao_cross3_tmp03'\n",
    ")  as \n",
    "with tmp2 as (\n",
    "   with tmp as (\n",
    "      select cuc, periodo, GRUPO_ANALYTICS,  \n",
    "          first_value(periodo) over (partition by cuc, GRUPO_ANALYTICS order by periodo ) first_apearance,\n",
    "          lag(periodo, 1) over (partition by cuc, GRUPO_ANALYTICS order by periodo ) last_apearance\n",
    "      from  coe_analytics_tmp.ao_cross3_tmp01\n",
    "    )\n",
    "  select *, \n",
    "     lag(periodo, 1) over (partition by cuc order by periodo ) last_apearance2 ,\n",
    "     lead(periodo, 1) over (partition by cuc order by periodo ) next_apearance2 ,\n",
    "     (case when periodo = '201501' then 0\n",
    "           when last_apearance is null then 1 \n",
    "           when date_diff('month', date_parse(last_apearance, '%Y%m'), date_parse(periodo, '%Y%m')) > 2 then 1\n",
    "           else 0 end ) new_client_producto\n",
    "     from tmp \n",
    "  )\n",
    "select *,\n",
    "   (case when new_client_producto = 1 and \n",
    "              date_diff('month', date_parse(last_apearance2, '%Y%m'), date_parse(periodo, '%Y%m')) <= 1 then 1\n",
    "         when new_client_producto = 1 and\n",
    "               date_diff('month', date_parse(next_apearance2, '%Y%m'), date_parse(periodo, '%Y%m')) = 0 then 1 \n",
    "         else 0 end ) new_cross_producto\n",
    "from tmp2;\n",
    "\"\"\"\n",
    "\n",
    "wr.s3.delete_objects('s3://rimac-analytics-temporal/individuals/Antonio Ordonez/data/base_cross/ao_cross3_tmp03')\n",
    "\n",
    "query_id = wr.athena.start_query_execution('DROP TABLE coe_analytics_tmp.ao_cross3_tmp03;', database='coe_analytics_tmp')\n",
    "res = wr.athena.wait_query(query_execution_id=query_id)\n",
    "\n",
    "query_id = wr.athena.start_query_execution(q, database='coe_analytics_tmp', )\n",
    "res = wr.athena.wait_query(query_execution_id=query_id)"
   ]
  },
  {
   "cell_type": "code",
   "execution_count": null,
   "metadata": {},
   "outputs": [],
   "source": []
  },
  {
   "cell_type": "code",
   "execution_count": null,
   "metadata": {},
   "outputs": [],
   "source": []
  }
 ],
 "metadata": {
  "kernelspec": {
   "display_name": "conda_python3",
   "language": "python",
   "name": "conda_python3"
  },
  "language_info": {
   "codemirror_mode": {
    "name": "ipython",
    "version": 3
   },
   "file_extension": ".py",
   "mimetype": "text/x-python",
   "name": "python",
   "nbconvert_exporter": "python",
   "pygments_lexer": "ipython3",
   "version": "3.6.13"
  }
 },
 "nbformat": 4,
 "nbformat_minor": 4
}
