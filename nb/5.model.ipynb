{
 "cells": [
  {
   "cell_type": "code",
   "execution_count": 2,
   "metadata": {},
   "outputs": [],
   "source": [
    "import pandas as pd \n",
    "import numpy as np \n",
    "import awswrangler as wr\n",
    "from datetime import date\n",
    "import datetime\n",
    "\n",
    "import mlflow\n",
    "from mlflow.tracking import MlflowClient\n",
    "\n",
    "import lightgbm as lgb\n",
    "import joblib\n",
    "from sklearn.metrics import roc_auc_score, confusion_matrix\n",
    "\n",
    "import pickle "
   ]
  },
  {
   "cell_type": "code",
   "execution_count": 3,
   "metadata": {},
   "outputs": [],
   "source": [
    "today = date.today()\n",
    "day, month, year = today.strftime(\"%d/%m/%Y\").split('/')\n",
    "period = year + month"
   ]
  },
  {
   "cell_type": "code",
   "execution_count": 4,
   "metadata": {},
   "outputs": [],
   "source": [
    "train = wr.s3.read_parquet(\"s3://rimac-analytics-temporal/individuals/Dante/cross-sell-veh/data/prec/train/data.parquet\")\n",
    "valid = wr.s3.read_parquet(\"s3://rimac-analytics-temporal/individuals/Dante/cross-sell-veh/data/prec/valid/data.parquet\")\n"
   ]
  },
  {
   "cell_type": "code",
   "execution_count": 5,
   "metadata": {},
   "outputs": [
    {
     "name": "stdout",
     "output_type": "stream",
     "text": [
      "[LightGBM] [Info] Number of positive: 98846, number of negative: 583521\n",
      "[LightGBM] [Warning] Auto-choosing row-wise multi-threading, the overhead of testing was 0.028977 seconds.\n",
      "You can set `force_row_wise=true` to remove the overhead.\n",
      "And if memory is not enough, you can set `force_col_wise=true`.\n",
      "[LightGBM] [Info] Total Bins 2752\n",
      "[LightGBM] [Info] Number of data points in the train set: 682367, number of used features: 28\n"
     ]
    },
    {
     "name": "stderr",
     "output_type": "stream",
     "text": [
      "/home/ec2-user/anaconda3/envs/python3/lib/python3.6/site-packages/lightgbm/basic.py:1433: UserWarning: Overriding the parameters from Reference Dataset.\n",
      "  _log_warning('Overriding the parameters from Reference Dataset.')\n",
      "/home/ec2-user/anaconda3/envs/python3/lib/python3.6/site-packages/lightgbm/basic.py:1245: UserWarning: categorical_column in param dict is overridden.\n",
      "  _log_warning('{} in param dict is overridden.'.format(cat_alias))\n"
     ]
    },
    {
     "name": "stdout",
     "output_type": "stream",
     "text": [
      "[LightGBM] [Info] [binary:BoostFromScore]: pavg=0.144858 -> initscore=-1.775517\n",
      "[LightGBM] [Info] Start training from score -1.775517\n",
      "Train AUC: 97.87 | Val AUC: 97.42 | Train Gini: 95.74 | Val Gini: 94.84\n",
      "\n",
      "artifact_uri=s3://rimac-analytics-temporal/individuals/Dante/cross-sell-veh/mlruns/d6cf05ee621949eaba286b3efc53e93d/artifacts\n"
     ]
    }
   ],
   "source": [
    "params = {\n",
    "    'boosting_type': 'gbdt',\n",
    "    'objective': 'binary',\n",
    "    'metric': { 'AUC' },\n",
    "    'num_leaves': 30,\n",
    "    'min_data_per_group': 200,\n",
    "    'bagging_freq': 1,\n",
    "    'bagging_fraction': 0.9,\n",
    "    'feature_fraction': 0.8,\n",
    "    'verbose': 1,\n",
    "    'learning_rate': 0.1, \n",
    "    'is_unbalance':True,\n",
    "    'seed':10\n",
    "}\n",
    "\n",
    "exp_name = 'exp_6'\n",
    "try:\n",
    "    id_exp = MlflowClient().create_experiment(exp_name,'s3://rimac-analytics-temporal/individuals/Dante/cross-sell-veh/mlruns')\n",
    "except:\n",
    "    id_exp = mlflow.get_experiment_by_name(exp_name).experiment_id\n",
    "\n",
    "with mlflow.start_run(experiment_id=id_exp) as run:\n",
    "    mlflow.log_params(params)\n",
    "    \n",
    "    X_train, y_train = train.drop(['target'], axis=1), train[['target']].astype(int)\n",
    "    X_val, y_val = valid.drop(['target'], axis=1), valid[['target']].astype(int)\n",
    "\n",
    "    mlflow.log_param('columnas', X_train.columns)\n",
    "    \n",
    "    train_set = lgb.Dataset(X_train, y_train)\n",
    "    val_set = lgb.Dataset(X_val, y_val, reference=train_set)\n",
    "    \n",
    "    clf = lgb.train(\n",
    "        params,\n",
    "        train_set,\n",
    "        num_boost_round=500,\n",
    "        valid_sets=val_set,\n",
    "        early_stopping_rounds=20,\n",
    "        verbose_eval=0,\n",
    "        )\n",
    "    \n",
    "    y_trn_pred = clf.predict(X_train, num_iteration=clf.best_iteration)\n",
    "    y_val_pred = clf.predict(X_val, num_iteration=clf.best_iteration)\n",
    "    \n",
    "    trn_auc = roc_auc_score(y_train, y_trn_pred)\n",
    "    val_auc = roc_auc_score(y_val, y_val_pred)\n",
    "        \n",
    "    print(f'Train AUC: {100*trn_auc:.2f} | '\n",
    "              f'Val AUC: {100*val_auc:.2f} | '\n",
    "              f'Train Gini: {(100*trn_auc-50)*2:.2f} | '\n",
    "              f'Val Gini: {(100*val_auc-50)*2:.2f}')\n",
    "        \n",
    "    mlflow.log_metric('train_auc', trn_auc)\n",
    "    mlflow.log_metric('val_auc', val_auc)\n",
    "    mlflow.sklearn.log_model(clf, 'model')\n",
    "\n",
    "    df_val = pd.DataFrame()\n",
    "    df_val['pred'] = y_val_pred\n",
    "    df_val['target'] = y_val.target.reset_index(drop=True)\n",
    "    df_val['decile'], cuts= pd.qcut(y_val_pred, 10, duplicates='drop', retbins=True)\n",
    "    np.save('cuts.npy', cuts)\n",
    "    mlflow.log_artifact('cuts.npy')\n",
    "    \n",
    "    mlflow.set_tag('period_train', period)\n",
    "    \n",
    "    print()\n",
    "    print(f\"artifact_uri={mlflow.get_artifact_uri()}\")\n",
    "    \n",
    "mlflow.end_run()"
   ]
  },
  {
   "cell_type": "code",
   "execution_count": 7,
   "metadata": {},
   "outputs": [
    {
     "data": {
      "text/plain": [
       "0.033890372690139135"
      ]
     },
     "execution_count": 7,
     "metadata": {},
     "output_type": "execute_result"
    }
   ],
   "source": [
    "np.median(y_trn_pred)"
   ]
  },
  {
   "cell_type": "code",
   "execution_count": 8,
   "metadata": {},
   "outputs": [],
   "source": [
    "train['pred'] = y_trn_pred"
   ]
  },
  {
   "cell_type": "code",
   "execution_count": 9,
   "metadata": {},
   "outputs": [
    {
     "data": {
      "text/plain": [
       "<AxesSubplot:>"
      ]
     },
     "execution_count": 9,
     "metadata": {},
     "output_type": "execute_result"
    },
    {
     "data": {
      "image/png": "[encoded data removed]",
      "text/plain": [
       "<Figure size 432x288 with 1 Axes>"
      ]
     },
     "metadata": {
      "needs_background": "light"
     },
     "output_type": "display_data"
    }
   ],
   "source": [
    "train.pred.hist()"
   ]
  },
  {
   "cell_type": "code",
   "execution_count": 68,
   "metadata": {},
   "outputs": [
    {
     "data": {
      "text/plain": [
       "<AxesSubplot:>"
      ]
     },
     "execution_count": 68,
     "metadata": {},
     "output_type": "execute_result"
    },
    {
     "data": {
      "image/png": "[encoded data removed]",
      "text/plain": [
       "<Figure size 432x288 with 1 Axes>"
      ]
     },
     "metadata": {
      "needs_background": "light"
     },
     "output_type": "display_data"
    }
   ],
   "source": [
    "train.pred.hist()"
   ]
  },
  {
   "cell_type": "code",
   "execution_count": 69,
   "metadata": {},
   "outputs": [],
   "source": [
    "from sklearn.preprocessing import StandardScaler"
   ]
  },
  {
   "cell_type": "code",
   "execution_count": 70,
   "metadata": {},
   "outputs": [],
   "source": [
    "sc = StandardScaler()"
   ]
  },
  {
   "cell_type": "code",
   "execution_count": null,
   "metadata": {},
   "outputs": [],
   "source": [
    "sc.fit(distribucio)"
   ]
  },
  {
   "cell_type": "code",
   "execution_count": null,
   "metadata": {},
   "outputs": [],
   "source": [
    "sc.transform()"
   ]
  },
  {
   "cell_type": "code",
   "execution_count": 62,
   "metadata": {},
   "outputs": [
    {
     "data": {
      "text/html": [
       "<div>\n",
       "<style scoped>\n",
       "    .dataframe tbody tr th:only-of-type {\n",
       "        vertical-align: middle;\n",
       "    }\n",
       "\n",
       "    .dataframe tbody tr th {\n",
       "        vertical-align: top;\n",
       "    }\n",
       "\n",
       "    .dataframe thead tr th {\n",
       "        text-align: left;\n",
       "    }\n",
       "\n",
       "    .dataframe thead tr:last-of-type th {\n",
       "        text-align: right;\n",
       "    }\n",
       "</style>\n",
       "<table border=\"1\" class=\"dataframe\">\n",
       "  <thead>\n",
       "    <tr>\n",
       "      <th></th>\n",
       "      <th colspan=\"2\" halign=\"left\">target</th>\n",
       "    </tr>\n",
       "    <tr>\n",
       "      <th></th>\n",
       "      <th>mean</th>\n",
       "      <th>count</th>\n",
       "    </tr>\n",
       "    <tr>\n",
       "      <th>decile</th>\n",
       "      <th></th>\n",
       "      <th></th>\n",
       "    </tr>\n",
       "  </thead>\n",
       "  <tbody>\n",
       "    <tr>\n",
       "      <th>(-0.000985, 0.00533]</th>\n",
       "      <td>0.000398</td>\n",
       "      <td>15060</td>\n",
       "    </tr>\n",
       "    <tr>\n",
       "      <th>(0.00533, 0.0111]</th>\n",
       "      <td>0.001062</td>\n",
       "      <td>15059</td>\n",
       "    </tr>\n",
       "    <tr>\n",
       "      <th>(0.0111, 0.0206]</th>\n",
       "      <td>0.001461</td>\n",
       "      <td>15059</td>\n",
       "    </tr>\n",
       "    <tr>\n",
       "      <th>(0.0206, 0.0372]</th>\n",
       "      <td>0.002789</td>\n",
       "      <td>15059</td>\n",
       "    </tr>\n",
       "    <tr>\n",
       "      <th>(0.0372, 0.0664]</th>\n",
       "      <td>0.007371</td>\n",
       "      <td>15059</td>\n",
       "    </tr>\n",
       "    <tr>\n",
       "      <th>(0.0664, 0.125]</th>\n",
       "      <td>0.014941</td>\n",
       "      <td>15059</td>\n",
       "    </tr>\n",
       "    <tr>\n",
       "      <th>(0.125, 0.255]</th>\n",
       "      <td>0.035062</td>\n",
       "      <td>15059</td>\n",
       "    </tr>\n",
       "    <tr>\n",
       "      <th>(0.255, 0.544]</th>\n",
       "      <td>0.103925</td>\n",
       "      <td>15059</td>\n",
       "    </tr>\n",
       "    <tr>\n",
       "      <th>(0.544, 0.891]</th>\n",
       "      <td>0.378046</td>\n",
       "      <td>15059</td>\n",
       "    </tr>\n",
       "    <tr>\n",
       "      <th>(0.891, 1.0]</th>\n",
       "      <td>0.879814</td>\n",
       "      <td>15060</td>\n",
       "    </tr>\n",
       "  </tbody>\n",
       "</table>\n",
       "</div>"
      ],
      "text/plain": [
       "                        target       \n",
       "                          mean  count\n",
       "decile                               \n",
       "(-0.000985, 0.00533]  0.000398  15060\n",
       "(0.00533, 0.0111]     0.001062  15059\n",
       "(0.0111, 0.0206]      0.001461  15059\n",
       "(0.0206, 0.0372]      0.002789  15059\n",
       "(0.0372, 0.0664]      0.007371  15059\n",
       "(0.0664, 0.125]       0.014941  15059\n",
       "(0.125, 0.255]        0.035062  15059\n",
       "(0.255, 0.544]        0.103925  15059\n",
       "(0.544, 0.891]        0.378046  15059\n",
       "(0.891, 1.0]          0.879814  15060"
      ]
     },
     "execution_count": 62,
     "metadata": {},
     "output_type": "execute_result"
    }
   ],
   "source": [
    "df_val.groupby('decile').agg({'target': ['mean', 'count']})"
   ]
  },
  {
   "cell_type": "code",
   "execution_count": 64,
   "metadata": {},
   "outputs": [
    {
     "data": {
      "text/plain": [
       "0.1424909689757756"
      ]
     },
     "execution_count": 64,
     "metadata": {},
     "output_type": "execute_result"
    }
   ],
   "source": [
    "df_val.target.mean()"
   ]
  },
  {
   "cell_type": "code",
   "execution_count": 65,
   "metadata": {},
   "outputs": [
    {
     "data": {
      "text/plain": [
       "(150592, 3)"
      ]
     },
     "execution_count": 65,
     "metadata": {},
     "output_type": "execute_result"
    }
   ],
   "source": [
    "df_val.shape"
   ]
  },
  {
   "cell_type": "code",
   "execution_count": 61,
   "metadata": {},
   "outputs": [
    {
     "data": {
      "text/plain": [
       "array([1.49895563e-05, 5.33033580e-03, 1.11263409e-02, 2.06319170e-02,\n",
       "       3.71802842e-02, 6.63849774e-02, 1.24757035e-01, 2.55074497e-01,\n",
       "       5.43542687e-01, 8.91139470e-01, 9.99757476e-01])"
      ]
     },
     "execution_count": 61,
     "metadata": {},
     "output_type": "execute_result"
    }
   ],
   "source": [
    "cuts"
   ]
  },
  {
   "cell_type": "code",
   "execution_count": null,
   "metadata": {},
   "outputs": [],
   "source": []
  }
 ],
 "metadata": {
  "kernelspec": {
   "display_name": "conda_python3",
   "language": "python",
   "name": "conda_python3"
  },
  "language_info": {
   "codemirror_mode": {
    "name": "ipython",
    "version": 3
   },
   "file_extension": ".py",
   "mimetype": "text/x-python",
   "name": "python",
   "nbconvert_exporter": "python",
   "pygments_lexer": "ipython3",
   "version": "3.6.13"
  }
 },
 "nbformat": 4,
 "nbformat_minor": 4
}
