{
 "cells": [
  {
   "cell_type": "code",
   "execution_count": 3,
   "metadata": {},
   "outputs": [],
   "source": [
    "import pandas as pd\n",
    "import awswrangler as wr\n",
    "from sklearn.model_selection import train_test_split\n",
    "import datetime \n",
    "from datetime import date\n",
    "\n",
    "pd.options.display.max_columns = 999\n",
    "\n",
    "%matplotlib inline"
   ]
  },
  {
   "cell_type": "code",
   "execution_count": 8,
   "metadata": {},
   "outputs": [],
   "source": [
    "today = date.today()\n",
    "day, month, year = (today - datetime.timedelta(days=720)).strftime(\"%d/%m/%Y\").split('/')\n",
    "period_limit = year + month\n",
    "\n",
    "today = date.today()\n",
    "day, month, year = (today - datetime.timedelta(days=60)).strftime(\"%d/%m/%Y\").split('/')\n",
    "period_potencial = year + month"
   ]
  },
  {
   "cell_type": "code",
   "execution_count": 9,
   "metadata": {},
   "outputs": [
    {
     "data": {
      "text/plain": [
       "('201905', '202102')"
      ]
     },
     "execution_count": 9,
     "metadata": {},
     "output_type": "execute_result"
    }
   ],
   "source": [
    "period_limit, period_potencial"
   ]
  },
  {
   "cell_type": "code",
   "execution_count": 5,
   "metadata": {},
   "outputs": [],
   "source": [
    "data = wr.s3.read_parquet(\"s3://rimac-analytics-temporal/individuals/Dante/cross-sell-veh/data/prec/all/data.parquet\")\n"
   ]
  },
  {
   "cell_type": "code",
   "execution_count": 12,
   "metadata": {},
   "outputs": [],
   "source": [
    "data_potencial = data.loc[(data.periodo_target == int(period_potencial)) & (data.jerarquia == 0)]\n",
    "data_rest = data.loc[data.periodo_target < int(period_potencial)]\n",
    "\n",
    "data_drop = data_rest.sort_values(by='jerarquia', ascending=False).drop_duplicates(['periodo_target', 'target', 'cuc']).drop('jerarquia', axis=1)\n",
    "data_drop = data_drop.sample(frac=1, random_state=0).reset_index(drop=True)\n",
    "data_train, data_val = train_test_split(data_drop, test_size=0.2, stratify=data_drop.target, random_state=222)"
   ]
  },
  {
   "cell_type": "code",
   "execution_count": 13,
   "metadata": {},
   "outputs": [
    {
     "data": {
      "text/plain": [
       "((682367, 33), (170592, 33))"
      ]
     },
     "execution_count": 13,
     "metadata": {},
     "output_type": "execute_result"
    }
   ],
   "source": [
    "data_train.shape, data_val.shape"
   ]
  },
  {
   "cell_type": "code",
   "execution_count": 41,
   "metadata": {},
   "outputs": [
    {
     "data": {
      "text/plain": [
       "((602368, 33), (150592, 33))"
      ]
     },
     "execution_count": 41,
     "metadata": {},
     "output_type": "execute_result"
    }
   ],
   "source": [
    "data_train.shape, data_val.shape"
   ]
  },
  {
   "cell_type": "code",
   "execution_count": 14,
   "metadata": {},
   "outputs": [],
   "source": [
    "data_train = data_train.drop(['periodo_target', 'cuc', 'placa'], axis=1, errors='ignore')\n",
    "data_val = data_val.drop(['periodo_target', 'cuc', 'placa'], axis=1, errors='ignore')"
   ]
  },
  {
   "cell_type": "code",
   "execution_count": 16,
   "metadata": {},
   "outputs": [
    {
     "data": {
      "text/plain": [
       "{'paths': ['s3://rimac-analytics-temporal/individuals/Dante/cross-sell-veh/data/prec/potencial/data.parquet/c76cfbd3a792412498b6bb8cb6efa7f4.snappy.parquet'],\n",
       " 'partitions_values': {}}"
      ]
     },
     "execution_count": 16,
     "metadata": {},
     "output_type": "execute_result"
    }
   ],
   "source": [
    "wr.s3.to_parquet(\n",
    "        df=data_val.reset_index(drop=True),\n",
    "        path='s3://rimac-analytics-temporal/individuals/Dante/cross-sell-veh/data/prec/valid/data.parquet',\n",
    "        mode='overwrite',\n",
    "        dataset=True,\n",
    ")\n",
    "wr.s3.to_parquet(\n",
    "        df=data_train.reset_index(drop=True),\n",
    "        path='s3://rimac-analytics-temporal/individuals/Dante/cross-sell-veh/data/prec/train/data.parquet',\n",
    "        mode='overwrite',\n",
    "        dataset=True,\n",
    ")\n",
    "wr.s3.to_parquet(\n",
    "        df=data_potencial.reset_index(drop=True),\n",
    "        path='s3://rimac-analytics-temporal/individuals/Dante/cross-sell-veh/data/prec/potencial/data.parquet',\n",
    "        mode='overwrite',\n",
    "        dataset=True,\n",
    ")"
   ]
  },
  {
   "cell_type": "code",
   "execution_count": null,
   "metadata": {},
   "outputs": [],
   "source": []
  }
 ],
 "metadata": {
  "kernelspec": {
   "display_name": "conda_python3",
   "language": "python",
   "name": "conda_python3"
  },
  "language_info": {
   "codemirror_mode": {
    "name": "ipython",
    "version": 3
   },
   "file_extension": ".py",
   "mimetype": "text/x-python",
   "name": "python",
   "nbconvert_exporter": "python",
   "pygments_lexer": "ipython3",
   "version": "3.6.13"
  }
 },
 "nbformat": 4,
 "nbformat_minor": 4
}
