{
 "cells": [
  {
   "cell_type": "code",
   "execution_count": 1,
   "metadata": {},
   "outputs": [],
   "source": [
    "import pandas as pd\n",
    "import numpy as np\n",
    "import awswrangler as wr\n",
    "import os\n",
    "from sklearn.preprocessing import MultiLabelBinarizer\n",
    "\n",
    "#os.chdir('..')\n",
    "#from src.preprocessing import preprocess\n",
    "\n",
    "pd.options.display.max_columns = 999\n",
    "\n",
    "%matplotlib inline"
   ]
  },
  {
   "cell_type": "code",
   "execution_count": 2,
   "metadata": {},
   "outputs": [],
   "source": [
    "q = \"\"\"\n",
    "select *\n",
    "from coe_analytics_tmp.ao_cross3_vehjoin8;\n",
    "\"\"\"\n",
    "\n",
    "data = wr.athena.read_sql_query(q, database=\"bdax_acselx\")"
   ]
  },
  {
   "cell_type": "code",
   "execution_count": 3,
   "metadata": {},
   "outputs": [
    {
     "name": "stderr",
     "output_type": "stream",
     "text": [
      "/home/ec2-user/anaconda3/envs/python3/lib/python3.6/site-packages/pyarrow/compat.py:25: FutureWarning: pyarrow.compat has been deprecated and will be removed in a future release\n",
      "  \"future release\", FutureWarning)\n"
     ]
    }
   ],
   "source": [
    "import pandas as pd \n",
    "import numpy as np \n",
    "\n",
    "import awswrangler as wr\n",
    "import pyarrow.compat as compat\n",
    "import pyarrow.parquet as pq\n",
    "import s3fs\n",
    "\n",
    "import lightgbm as lgb\n",
    "import pickle "
   ]
  },
  {
   "cell_type": "code",
   "execution_count": 4,
   "metadata": {},
   "outputs": [],
   "source": [
    "variables = [\n",
    " 'avg_beneficio_pps', 'scoreingreso', 'tipotrabajador', 'dem_edad',\n",
    " #'e_giro',#'last_univ', #'last_grado',\n",
    " #'polizas_vencidas', #'act_polizas_vencidas', #'meses_ult_retraso_cob',\n",
    " 'last_prima_tot_miscli', 'avg_prima_tot_miscli', 'PRIMA_PROM_GRUPOS', 'PRIMA_PROM_RIESGOS', 'ratio_inc_prima_tot_miscli',\n",
    "\n",
    " #'dem_grado_instruccion',#'rcc_num_vehic_sbs_6','dem_ocupacion', 'ESTRATO', 'dem_dep_agrup',\n",
    " 'dem_lima_agrup', 'dem_cono_agrup', 'dem_nse_rimac',\n",
    " 'rcc_cal_gral', 'rcc_num_vehic_sbs',  'rcc_linea_tcmax', 'rcc_linea_tcmax_var6',\n",
    " 'veh_marca', 'veh_modelo',  'veh_valor_act', 'antiguedad_veh',\n",
    " #'veh_clase',  ## RARO\n",
    " 'num_grupos', 'num_riesgos',\n",
    " 'VEH_firstgrupos', 'EPS_grupos', 'SOA_grupos', 'VEH_var', 'RIESGOS GENERALES_riesgos',\n",
    " 'months_ant_miscli2', 'num_meses_miscli', 'target', 'periodo_target', 'cuc', 'placa', 'jerarquia'\n",
    "]"
   ]
  },
  {
   "cell_type": "code",
   "execution_count": 5,
   "metadata": {},
   "outputs": [],
   "source": [
    "def replace_otro(df, col, rep = 'OTRO', thresh = 0.01):\n",
    "    aux = df[col].astype('object').value_counts(normalize=True)\n",
    "    df.loc[~df[col].isin(aux[aux>=thresh].index),col] = 'OTRO'\n",
    "    \n",
    "    return df"
   ]
  },
  {
   "cell_type": "code",
   "execution_count": 6,
   "metadata": {},
   "outputs": [],
   "source": [
    "# combo_riesgos Binarizar\n",
    "def encoding_mlbin(df, var, sufix):\n",
    "    \n",
    "    tmp = df[var].fillna('ND_'+var).str.split('/')\n",
    "    mlb = MultiLabelBinarizer()\n",
    "    aux = pd.DataFrame(mlb.fit_transform(tmp), columns=mlb.classes_, index=df.index)\n",
    "    aux['num'] = aux.sum(axis = 1)\n",
    "    \n",
    "    if(sufix): aux = aux.add_suffix('_'+sufix)\n",
    "    \n",
    "    df = pd.concat([df, aux], axis = 1)\n",
    "    \n",
    "    return df\n",
    "\n"
   ]
  },
  {
   "cell_type": "code",
   "execution_count": 13,
   "metadata": {},
   "outputs": [],
   "source": [
    "def pre_process_data(df):\n",
    "    \n",
    "    df['periodo_target'] = df['periodo_target'].astype('int')\n",
    "    \n",
    "    # EXCLUIMOS CLIENTES\n",
    "    prod_bloqueados=['VEHV']\n",
    "    df = df[~df['grupo_analytics_concat'].str.contains(r'\\b(?:{})\\b'.format('|'.join(['VEHV']))).fillna(False)]\n",
    "    df = df[(df['dem_edad']>18) & (df['dem_edad'].notnull())]\n",
    "    \n",
    "    df['veh_anhofab'] = df['veh_anhofab'].fillna(2000)\n",
    "    df = encoding_mlbin(df, 'grupo_analytics_concat', 'grupos')\n",
    "    df = encoding_mlbin(df, 'combo_riesgos_miscli', 'riesgos')\n",
    "    df = encoding_mlbin(df, 'combo_canales_miscli', 'canales')\n",
    "    df = encoding_mlbin(df, 'first_grupo_analytics_concat', 'firstgrupos')\n",
    "\n",
    "    df['PRIMA_PROM_GRUPOS'] = df['last_prima_tot_miscli'] / df['num_grupos']\n",
    "    df['PRIMA_PROM_RIESGOS'] = df['last_prima_tot_miscli'] / df['num_riesgos']\n",
    "\n",
    "    df['ratio_inc_prima_tot_miscli'] =df['last_prima_tot_miscli']  / df['avg_prima_tot_miscli'] \n",
    "    \n",
    "    df['rcc_linea_tcmax_var6'] =  df['rcc_linea_tcmax'] - df['rcc_linea_tcmax_6']\n",
    "    \n",
    "    df['months_ant_miscli'] = ((pd.to_datetime(df['periodo_target'], format ='%Y%m') - \n",
    "                                pd.to_datetime(df['first_periodo'].astype('str'), format ='%Y%m') )/np.timedelta64(1, 'M'))\n",
    "\n",
    "    df['months_ant_miscli2'] = np.where(df['months_ant_miscli']>36, 36, df['months_ant_miscli'])\n",
    "    grupos = [col.split('_')[0] for col in df.columns if  '_grupos' in col ]\n",
    "\n",
    "    for col in grupos:\n",
    "        if (col+'_grupos' in df.columns) and (col+'_firstgrupos' in df.columns):\n",
    "            df[col+'_var'] = df[col+'_grupos'] - df[col+'_firstgrupos']\n",
    "        else:\n",
    "            print('no esta', col)\n",
    "\n",
    "    var_exl = ['_firstgrupos',  '_canales',  '_grupos', '_mediopago', '_firstgrupos',  'grupo_analytics_concat', 'combo_riesgos_miscli', \n",
    "           'mediopago_concat', 'combo_canales_miscli', 'first_grupo_analytics_concat', 'first_combo_riesgos_miscli', \n",
    "           'first_combo_canales_miscli', 'last_dipl_fecha', 'fec_ingreso_adn']\n",
    "\n",
    "    var_ids = ['cuc_tit', 'periodo_target', 'placa']\n",
    "    target = ['veh']\n",
    "    features = list(set(df.columns.tolist()) - set(var_exl + var_ids + target))\n",
    "    \n",
    "    df['rcc_linea_tcmax_6']= pd.to_numeric(df['rcc_linea_tcmax_6'], errors='coerce') \n",
    "    df['rcc_linea_tcmax']= pd.to_numeric(df['rcc_linea_tcmax'], errors='coerce') \n",
    "    df['rcc_num_vehic_sbs']= pd.to_numeric(df['rcc_num_vehic_sbs'], errors='coerce') \n",
    "    df['rcc_saldo_tc_sbs']= pd.to_numeric(df['rcc_saldo_tc_sbs'], errors='coerce') \n",
    "    df['rcc_linea_tcmax_var6']= pd.to_numeric(df['rcc_linea_tcmax_var6'], errors='coerce') \n",
    "    df['scoreingreso'] = pd.to_numeric(df['scoreingreso'], errors='coerce') \n",
    "    \n",
    "    \n",
    "    df['antiguedad_veh'] = (df['periodo_target']//100 - df['veh_anhofab']).astype(int)\n",
    "    df['veh_marca'] = df['veh_marca'].str.rstrip('.!? \\n\\t').str.lstrip('.!? \\n\\t')\n",
    "    df['veh_modelo'] = df['veh_modelo'].str.rstrip('.!? \\n\\t').str.lstrip('.!? \\n\\t')\n",
    "    \n",
    "    df = replace_otro(df = df, col = 'veh_marca', rep = 'OTRO', thresh = 0.002)\n",
    "    df = replace_otro(df = df, col = 'veh_modelo', rep = 'OTRO', thresh = 0.001)\n",
    "    \n",
    "    df = df.rename(columns={'veh': 'target'})\n",
    "    #dic_uso = {\n",
    "    #'PARTICULAR': 'PARTICULAR', 'PERSONA': 'PARTICULAR', 'ESCOLAR': 'PARTICULAR', 'PARTICULAR - CAMIONETA RURAL': 'PARTICULAR',\n",
    "    #'PARTICULAR - STATION WAGON': 'PARTICULAR', 'AUTOMOVIL': 'PARTICULAR',\n",
    "    #'CARGA/TRANSPORTE': 'CARGA/TRANSPORTE','CARGA/GRUA': 'CARGA/TRANSPORTE', 'CARGA TRANSPORTE': 'CARGA/TRANSPORTE', \n",
    "    #'URBANO/INTERURBANO':'URBANO/INTERURBANO', 'URBANO/INTERURBANO - AUTOMOVIL': 'URBANO/INTERURBANO','INTERPROVINCIAL': 'URBANO/INTERURBANO', \n",
    "    #'TAXI': 'TAXI', 'TAXI - AUTOMOVIL':'TAXI',\n",
    "    #'OTROS': 'OTROS', 'nan':'ND'}\n",
    "    #df['veh_uso_resto'] = df['veh_uso_resto'].astype('str').fillna('ND').map(dic_uso).fillna('OTROS').astype('category')\n",
    "    \n",
    "    for col in ['tipotrabajador', 'dem_lima_agrup', 'dem_cono_agrup', 'dem_nse_rimac', 'rcc_cal_gral', 'veh_marca', 'veh_modelo']:\n",
    "        df[col] = df[col].astype('category')\n",
    "    \n",
    "    for col in ['avg_beneficio_pps', 'scoreingreso', 'dem_edad', 'last_prima_tot_miscli', 'avg_prima_tot_miscli', 'PRIMA_PROM_GRUPOS',\n",
    "                'PRIMA_PROM_RIESGOS', 'ratio_inc_prima_tot_miscli', 'rcc_num_vehic_sbs', 'rcc_linea_tcmax', 'rcc_linea_tcmax_var6',\n",
    "                'veh_valor_act', 'antiguedad_veh', 'num_grupos', 'num_riesgos', 'VEH_firstgrupos', 'EPS_grupos', 'SOA_grupos', 'VEH_var',                      \n",
    "                'RIESGOS GENERALES_riesgos', 'months_ant_miscli2', 'num_meses_miscli', 'target']:\n",
    "        df[col] = df[col].astype('float')\n",
    "            \n",
    "    df_output = df.copy()\n",
    "    \n",
    "    return df_output[variables]"
   ]
  },
  {
   "cell_type": "code",
   "execution_count": 8,
   "metadata": {},
   "outputs": [],
   "source": [
    "data.loc[data['first_periodo'].isnull(), 'first_periodo'] = '202102'"
   ]
  },
  {
   "cell_type": "code",
   "execution_count": 14,
   "metadata": {},
   "outputs": [
    {
     "name": "stdout",
     "output_type": "stream",
     "text": [
      "no esta ND\n"
     ]
    }
   ],
   "source": [
    "data_prec = pre_process_data(data)"
   ]
  },
  {
   "cell_type": "code",
   "execution_count": 15,
   "metadata": {},
   "outputs": [
    {
     "data": {
      "text/plain": [
       "{'paths': ['s3://rimac-analytics-temporal/individuals/Dante/cross-sell-veh/data/prec/all/data.parquet/a22247e00bf245c4942f97b8235d63e4.snappy.parquet'],\n",
       " 'partitions_values': {}}"
      ]
     },
     "execution_count": 15,
     "metadata": {},
     "output_type": "execute_result"
    }
   ],
   "source": [
    "wr.s3.to_parquet(\n",
    "        df=data_prec.reset_index(drop=True),\n",
    "        path='s3://rimac-analytics-temporal/individuals/Dante/cross-sell-veh/data/prec/all/data.parquet',\n",
    "        mode='overwrite',\n",
    "        dataset=True,\n",
    ")\n"
   ]
  },
  {
   "cell_type": "code",
   "execution_count": null,
   "metadata": {},
   "outputs": [],
   "source": []
  }
 ],
 "metadata": {
  "kernelspec": {
   "display_name": "conda_python3",
   "language": "python",
   "name": "conda_python3"
  },
  "language_info": {
   "codemirror_mode": {
    "name": "ipython",
    "version": 3
   },
   "file_extension": ".py",
   "mimetype": "text/x-python",
   "name": "python",
   "nbconvert_exporter": "python",
   "pygments_lexer": "ipython3",
   "version": "3.6.13"
  }
 },
 "nbformat": 4,
 "nbformat_minor": 4
}
