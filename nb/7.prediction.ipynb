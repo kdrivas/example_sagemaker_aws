{
 "cells": [
  {
   "cell_type": "code",
   "execution_count": 1,
   "metadata": {},
   "outputs": [],
   "source": [
    "import pandas as pd \n",
    "import numpy as np \n",
    "import awswrangler as wr\n",
    "from datetime import date\n",
    "import datetime\n",
    "\n",
    "import mlflow\n",
    "from mlflow.tracking import MlflowClient\n",
    "\n",
    "import lightgbm as lgb\n",
    "import joblib\n",
    "from sklearn.metrics import roc_auc_score, confusion_matrix\n",
    "\n",
    "import pickle \n",
    "import boto3"
   ]
  },
  {
   "cell_type": "code",
   "execution_count": 2,
   "metadata": {},
   "outputs": [],
   "source": [
    "today = date.today()\n",
    "day, month, year = (today - datetime.timedelta(days=60)).strftime(\"%d/%m/%Y\").split('/')\n",
    "period_before = year + month\n",
    "\n",
    "day, month, year = today.strftime(\"%d/%m/%Y\").split('/')\n",
    "period = year + month"
   ]
  },
  {
   "cell_type": "code",
   "execution_count": 4,
   "metadata": {},
   "outputs": [],
   "source": [
    "id_exp = mlflow.get_experiment_by_name('exp_6').experiment_id\n",
    "\n",
    "df_runs = mlflow.search_runs(experiment_ids=[id_exp], filter_string=\"metrics.val_auc > 0.70\", order_by=[\"metrics.val_auc DESC\"], max_results=1)"
   ]
  },
  {
   "cell_type": "code",
   "execution_count": 5,
   "metadata": {},
   "outputs": [],
   "source": [
    "s3 = boto3.resource('s3')\n",
    "\n",
    "remote_path = df_runs.artifact_uri.values[0]\n",
    "model = pickle.loads(s3.Bucket(remote_path.split('/')[2]).Object(f'{\"/\".join(remote_path.split(\"/\")[3:])}/model/model.pkl').get()['Body'].read())"
   ]
  },
  {
   "cell_type": "code",
   "execution_count": 6,
   "metadata": {},
   "outputs": [],
   "source": [
    "test = wr.s3.read_parquet(\"s3://rimac-analytics-temporal/individuals/Dante/cross-sell-veh/data/prec/potencial/data.parquet\")\n"
   ]
  },
  {
   "cell_type": "code",
   "execution_count": 14,
   "metadata": {},
   "outputs": [],
   "source": [
    "preds = model.predict(test.drop(['periodo_target', 'cuc', 'placa', 'target', 'jerarquia'], axis=1), num_iteration=model.best_iteration)\n",
    "test['preds'] = preds"
   ]
  },
  {
   "cell_type": "code",
   "execution_count": 15,
   "metadata": {},
   "outputs": [
    {
     "data": {
      "text/plain": [
       "0.17384033150579126"
      ]
     },
     "execution_count": 15,
     "metadata": {},
     "output_type": "execute_result"
    }
   ],
   "source": [
    "test.preds.median()"
   ]
  },
  {
   "cell_type": "code",
   "execution_count": 16,
   "metadata": {},
   "outputs": [
    {
     "data": {
      "text/plain": [
       "(613302, 35)"
      ]
     },
     "execution_count": 16,
     "metadata": {},
     "output_type": "execute_result"
    }
   ],
   "source": [
    "test[test.periodo_target == 202102].shape"
   ]
  },
  {
   "cell_type": "code",
   "execution_count": 10,
   "metadata": {},
   "outputs": [
    {
     "data": {
      "text/plain": [
       "(613302, 34)"
      ]
     },
     "execution_count": 10,
     "metadata": {},
     "output_type": "execute_result"
    }
   ],
   "source": [
    "test[test.periodo_target == 202102].shape"
   ]
  },
  {
   "cell_type": "code",
   "execution_count": 17,
   "metadata": {},
   "outputs": [
    {
     "data": {
      "text/plain": [
       "{'paths': ['s3://rimac-analytics-temporal/individuals/Dante/cross_prop_veh/predictions/proba_202104/46556f4ad9e44413b41f931685c83ec3.snappy.parquet'],\n",
       " 'partitions_values': {}}"
      ]
     },
     "execution_count": 17,
     "metadata": {},
     "output_type": "execute_result"
    }
   ],
   "source": [
    "wr.s3.to_parquet(\n",
    "        df=test[['periodo_target', 'cuc', 'placa', 'target', 'preds']],\n",
    "        path=f's3://rimac-analytics-temporal/individuals/Dante/cross_prop_veh/predictions/proba_{period}/',\n",
    "        mode='overwrite',\n",
    "        dataset=True,\n",
    "        database=\"coe_analytics_tmp\",\n",
    "        table=f\"crossveh_test_{period}\"\n",
    ")"
   ]
  },
  {
   "cell_type": "code",
   "execution_count": 18,
   "metadata": {},
   "outputs": [
    {
     "data": {
      "text/plain": [
       "'coe_analytics_tmp.crossveh_test_202104'"
      ]
     },
     "execution_count": 18,
     "metadata": {},
     "output_type": "execute_result"
    }
   ],
   "source": [
    "f\"coe_analytics_tmp.crossveh_test_{period}\""
   ]
  },
  {
   "cell_type": "code",
   "execution_count": 10,
   "metadata": {},
   "outputs": [],
   "source": [
    "all_data = wr.s3.read_parquet(\"s3://rimac-analytics-temporal/individuals/Dante/cross-sell-veh/data/prec/all/data.parquet\")\n"
   ]
  },
  {
   "cell_type": "code",
   "execution_count": 11,
   "metadata": {},
   "outputs": [],
   "source": [
    "preds = model.predict(all_data.drop(['periodo_target', 'cuc', 'placa', 'target', 'jerarquia'], axis=1), num_iteration=model.best_iteration)\n",
    "all_data['preds'] = preds"
   ]
  },
  {
   "cell_type": "code",
   "execution_count": 12,
   "metadata": {},
   "outputs": [
    {
     "data": {
      "text/html": [
       "<div>\n",
       "<style scoped>\n",
       "    .dataframe tbody tr th:only-of-type {\n",
       "        vertical-align: middle;\n",
       "    }\n",
       "\n",
       "    .dataframe tbody tr th {\n",
       "        vertical-align: top;\n",
       "    }\n",
       "\n",
       "    .dataframe thead th {\n",
       "        text-align: right;\n",
       "    }\n",
       "</style>\n",
       "<table border=\"1\" class=\"dataframe\">\n",
       "  <thead>\n",
       "    <tr style=\"text-align: right;\">\n",
       "      <th></th>\n",
       "      <th>avg_beneficio_pps</th>\n",
       "      <th>scoreingreso</th>\n",
       "      <th>tipotrabajador</th>\n",
       "      <th>dem_edad</th>\n",
       "      <th>last_prima_tot_miscli</th>\n",
       "      <th>avg_prima_tot_miscli</th>\n",
       "      <th>PRIMA_PROM_GRUPOS</th>\n",
       "      <th>PRIMA_PROM_RIESGOS</th>\n",
       "      <th>ratio_inc_prima_tot_miscli</th>\n",
       "      <th>dem_lima_agrup</th>\n",
       "      <th>...</th>\n",
       "      <th>VEH_var</th>\n",
       "      <th>RIESGOS_GENERALES_riesgos</th>\n",
       "      <th>months_ant_miscli2</th>\n",
       "      <th>num_meses_miscli</th>\n",
       "      <th>target</th>\n",
       "      <th>periodo_target</th>\n",
       "      <th>cuc</th>\n",
       "      <th>placa</th>\n",
       "      <th>jerarquia</th>\n",
       "      <th>preds</th>\n",
       "    </tr>\n",
       "  </thead>\n",
       "  <tbody>\n",
       "    <tr>\n",
       "      <th>397324</th>\n",
       "      <td>NaN</td>\n",
       "      <td>350.0</td>\n",
       "      <td>REG. ESPECIAL D. LEG.1057</td>\n",
       "      <td>35.0</td>\n",
       "      <td>1.865592</td>\n",
       "      <td>2.921455</td>\n",
       "      <td>1.865592</td>\n",
       "      <td>1.865592</td>\n",
       "      <td>0.638583</td>\n",
       "      <td>PROVINCIA</td>\n",
       "      <td>...</td>\n",
       "      <td>0.0</td>\n",
       "      <td>1.0</td>\n",
       "      <td>36.0</td>\n",
       "      <td>11.0</td>\n",
       "      <td>1.0</td>\n",
       "      <td>202012</td>\n",
       "      <td>1-44956524</td>\n",
       "      <td>05804U</td>\n",
       "      <td>0</td>\n",
       "      <td>0.155541</td>\n",
       "    </tr>\n",
       "    <tr>\n",
       "      <th>1051672</th>\n",
       "      <td>NaN</td>\n",
       "      <td>350.0</td>\n",
       "      <td>REG. ESPECIAL D. LEG.1057</td>\n",
       "      <td>35.0</td>\n",
       "      <td>1.865592</td>\n",
       "      <td>2.921455</td>\n",
       "      <td>1.865592</td>\n",
       "      <td>1.865592</td>\n",
       "      <td>0.638583</td>\n",
       "      <td>PROVINCIA</td>\n",
       "      <td>...</td>\n",
       "      <td>0.0</td>\n",
       "      <td>1.0</td>\n",
       "      <td>36.0</td>\n",
       "      <td>11.0</td>\n",
       "      <td>1.0</td>\n",
       "      <td>202012</td>\n",
       "      <td>1-44956524</td>\n",
       "      <td>BTD094</td>\n",
       "      <td>1</td>\n",
       "      <td>0.034214</td>\n",
       "    </tr>\n",
       "    <tr>\n",
       "      <th>1051673</th>\n",
       "      <td>NaN</td>\n",
       "      <td>350.0</td>\n",
       "      <td>REG. ESPECIAL D. LEG.1057</td>\n",
       "      <td>35.0</td>\n",
       "      <td>1.865592</td>\n",
       "      <td>2.921455</td>\n",
       "      <td>1.865592</td>\n",
       "      <td>1.865592</td>\n",
       "      <td>0.638583</td>\n",
       "      <td>PROVINCIA</td>\n",
       "      <td>...</td>\n",
       "      <td>0.0</td>\n",
       "      <td>1.0</td>\n",
       "      <td>36.0</td>\n",
       "      <td>11.0</td>\n",
       "      <td>1.0</td>\n",
       "      <td>202012</td>\n",
       "      <td>1-44956524</td>\n",
       "      <td>BTD094</td>\n",
       "      <td>1</td>\n",
       "      <td>0.034214</td>\n",
       "    </tr>\n",
       "    <tr>\n",
       "      <th>1410201</th>\n",
       "      <td>NaN</td>\n",
       "      <td>350.0</td>\n",
       "      <td>REG. ESPECIAL D. LEG.1057</td>\n",
       "      <td>35.0</td>\n",
       "      <td>1.865592</td>\n",
       "      <td>2.921455</td>\n",
       "      <td>1.865592</td>\n",
       "      <td>1.865592</td>\n",
       "      <td>0.638583</td>\n",
       "      <td>PROVINCIA</td>\n",
       "      <td>...</td>\n",
       "      <td>0.0</td>\n",
       "      <td>1.0</td>\n",
       "      <td>36.0</td>\n",
       "      <td>11.0</td>\n",
       "      <td>1.0</td>\n",
       "      <td>202012</td>\n",
       "      <td>1-44956524</td>\n",
       "      <td>55407U</td>\n",
       "      <td>0</td>\n",
       "      <td>0.021029</td>\n",
       "    </tr>\n",
       "  </tbody>\n",
       "</table>\n",
       "<p>4 rows × 35 columns</p>\n",
       "</div>"
      ],
      "text/plain": [
       "         avg_beneficio_pps  scoreingreso             tipotrabajador  dem_edad  \\\n",
       "397324                 NaN         350.0  REG. ESPECIAL D. LEG.1057      35.0   \n",
       "1051672                NaN         350.0  REG. ESPECIAL D. LEG.1057      35.0   \n",
       "1051673                NaN         350.0  REG. ESPECIAL D. LEG.1057      35.0   \n",
       "1410201                NaN         350.0  REG. ESPECIAL D. LEG.1057      35.0   \n",
       "\n",
       "         last_prima_tot_miscli  avg_prima_tot_miscli  PRIMA_PROM_GRUPOS  \\\n",
       "397324                1.865592              2.921455           1.865592   \n",
       "1051672               1.865592              2.921455           1.865592   \n",
       "1051673               1.865592              2.921455           1.865592   \n",
       "1410201               1.865592              2.921455           1.865592   \n",
       "\n",
       "         PRIMA_PROM_RIESGOS  ratio_inc_prima_tot_miscli dem_lima_agrup  ...  \\\n",
       "397324             1.865592                    0.638583      PROVINCIA  ...   \n",
       "1051672            1.865592                    0.638583      PROVINCIA  ...   \n",
       "1051673            1.865592                    0.638583      PROVINCIA  ...   \n",
       "1410201            1.865592                    0.638583      PROVINCIA  ...   \n",
       "\n",
       "        VEH_var RIESGOS_GENERALES_riesgos months_ant_miscli2  \\\n",
       "397324      0.0                       1.0               36.0   \n",
       "1051672     0.0                       1.0               36.0   \n",
       "1051673     0.0                       1.0               36.0   \n",
       "1410201     0.0                       1.0               36.0   \n",
       "\n",
       "         num_meses_miscli  target  periodo_target         cuc   placa  \\\n",
       "397324               11.0     1.0          202012  1-44956524  05804U   \n",
       "1051672              11.0     1.0          202012  1-44956524  BTD094   \n",
       "1051673              11.0     1.0          202012  1-44956524  BTD094   \n",
       "1410201              11.0     1.0          202012  1-44956524  55407U   \n",
       "\n",
       "         jerarquia     preds  \n",
       "397324           0  0.155541  \n",
       "1051672          1  0.034214  \n",
       "1051673          1  0.034214  \n",
       "1410201          0  0.021029  \n",
       "\n",
       "[4 rows x 35 columns]"
      ]
     },
     "execution_count": 12,
     "metadata": {},
     "output_type": "execute_result"
    }
   ],
   "source": [
    "all_data[all_data.cuc == '1-44956524']"
   ]
  },
  {
   "cell_type": "code",
   "execution_count": 13,
   "metadata": {},
   "outputs": [
    {
     "data": {
      "text/plain": [
       "{'paths': ['s3://rimac-analytics-temporal/individuals/Dante/cross_prop_veh/predictions/all/60d0406af3c744ceb02f76d42b9a0973.snappy.parquet'],\n",
       " 'partitions_values': {}}"
      ]
     },
     "execution_count": 13,
     "metadata": {},
     "output_type": "execute_result"
    }
   ],
   "source": [
    "wr.s3.to_parquet(\n",
    "        df=all_data[['periodo_target', 'cuc', 'placa', 'target', 'preds']],\n",
    "        path=f's3://rimac-analytics-temporal/individuals/Dante/cross_prop_veh/predictions/all/',\n",
    "        mode='overwrite',\n",
    "        dataset=True,\n",
    "        database=\"coe_analytics_tmp\",\n",
    "        table=f\"crossveh_test_back\"\n",
    ")"
   ]
  },
  {
   "cell_type": "code",
   "execution_count": 32,
   "metadata": {},
   "outputs": [
    {
     "data": {
      "text/plain": [
       "'crossveh_test_202104'"
      ]
     },
     "execution_count": 32,
     "metadata": {},
     "output_type": "execute_result"
    }
   ],
   "source": [
    "f\"crossveh_test_{period}\""
   ]
  },
  {
   "cell_type": "code",
   "execution_count": null,
   "metadata": {},
   "outputs": [],
   "source": []
  }
 ],
 "metadata": {
  "kernelspec": {
   "display_name": "conda_python3",
   "language": "python",
   "name": "conda_python3"
  },
  "language_info": {
   "codemirror_mode": {
    "name": "ipython",
    "version": 3
   },
   "file_extension": ".py",
   "mimetype": "text/x-python",
   "name": "python",
   "nbconvert_exporter": "python",
   "pygments_lexer": "ipython3",
   "version": "3.6.13"
  }
 },
 "nbformat": 4,
 "nbformat_minor": 4
}
